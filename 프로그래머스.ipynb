{
 "cells": [
  {
   "cell_type": "code",
   "execution_count": null,
   "metadata": {},
   "outputs": [],
   "source": [
    "\n"
   ]
  },
  {
   "cell_type": "code",
   "execution_count": 1,
   "metadata": {},
   "outputs": [],
   "source": [
    "# 부분 문자열\n",
    "def solution(str1, str2):\n",
    "    \n",
    "    answer = 0\n",
    "    \n",
    "    if str1 in str2:\n",
    "        answer=1\n",
    "    \n",
    "    return answer"
   ]
  },
  {
   "cell_type": "code",
   "execution_count": 2,
   "metadata": {},
   "outputs": [],
   "source": [
    "# 문자열을 정수로 변환하기\n",
    "\n",
    "def solution(n_str):\n",
    "    answer=int(n_str)\n",
    "\n",
    "    return answer \n"
   ]
  },
  {
   "cell_type": "code",
   "execution_count": 4,
   "metadata": {},
   "outputs": [],
   "source": [
    "# 공배수\n",
    "\n",
    "def solution(number, n, m):\n",
    "    answer = 0\n",
    "    if number%n==0 and number%m==0:\n",
    "        answer=1\n",
    "    return answer"
   ]
  },
  {
   "cell_type": "code",
   "execution_count": 5,
   "metadata": {},
   "outputs": [],
   "source": [
    "# rny_string\n",
    "\n",
    "def solution(rny_string):\n",
    "    \n",
    "    for i in range(len(rny_string)):\n",
    "        answer=rny_string.replace('m','rn')\n",
    "            \n",
    "    return answer\n"
   ]
  },
  {
   "cell_type": "code",
   "execution_count": 6,
   "metadata": {},
   "outputs": [],
   "source": [
    "# 뒤에서 5등 뒤로\n",
    "\n",
    "def solution(num_list):\n",
    "    \n",
    "    num_list=sorted(num_list)\n",
    "    answer=num_list[5:]  \n",
    "    \n",
    "    return answer\n"
   ]
  },
  {
   "cell_type": "code",
   "execution_count": 11,
   "metadata": {},
   "outputs": [],
   "source": [
    "# 정수 부분\n",
    "\n",
    "\n",
    "def solution(flo):\n",
    "    answer = int(flo)\n",
    "    return answer\n",
    "\n"
   ]
  },
  {
   "cell_type": "code",
   "execution_count": 13,
   "metadata": {},
   "outputs": [],
   "source": [
    "# 꼬리 문자열\n",
    "\n",
    "def solution(str_list, ex):\n",
    "    answer=''\n",
    "    for i in range(len(str_list)):\n",
    "        if ex not in str_list[i]:\n",
    "            answer+=str_list[i]\n",
    "\n",
    "    return answer\n",
    "\n"
   ]
  },
  {
   "cell_type": "code",
   "execution_count": 14,
   "metadata": {},
   "outputs": [],
   "source": [
    "# n번째 원소까지\n",
    "\n",
    "def solution(num_list, n):\n",
    "    \n",
    "    answer = num_list[:n]\n",
    "\n",
    "    return answer"
   ]
  },
  {
   "cell_type": "code",
   "execution_count": 18,
   "metadata": {},
   "outputs": [],
   "source": [
    "# 이어 붙인 수\n",
    "\n",
    "def solution(num_list):\n",
    "    a='' #홀수\n",
    "    b='' #짝수\n",
    "    \n",
    "    for i in range(len(num_list)):\n",
    "        if num_list[i]%2==0: #짝수\n",
    "            b+=str(num_list[i])\n",
    "        else:\n",
    "            a+=str(num_list[i])\n",
    "    \n",
    "    answer = int(a)+int(b)\n",
    "    \n",
    "    \n",
    "    return answer"
   ]
  },
  {
   "cell_type": "code",
   "execution_count": 19,
   "metadata": {},
   "outputs": [],
   "source": [
    "# n번째 원소부터\n",
    "\n",
    "def solution(num_list, n):\n",
    "    \n",
    "    answer = num_list[n-1:]\n",
    "    return answer"
   ]
  },
  {
   "cell_type": "code",
   "execution_count": 20,
   "metadata": {},
   "outputs": [],
   "source": [
    "# 문자열 정수의 합\n",
    "\n",
    "def solution(num_str):\n",
    "    answer=0\n",
    "    for i in num_str:\n",
    "        answer+=int(i)\n",
    "    return answer\n",
    "\n"
   ]
  },
  {
   "cell_type": "code",
   "execution_count": 21,
   "metadata": {},
   "outputs": [],
   "source": [
    "# n의 배수\n",
    "\n",
    "def solution(num,n):\n",
    "    \n",
    "    answer=0\n",
    "    if num%n==0:\n",
    "        answer=1\n",
    "        \n",
    "    return answer\n",
    "\n"
   ]
  },
  {
   "cell_type": "code",
   "execution_count": 25,
   "metadata": {},
   "outputs": [],
   "source": [
    "# flag에 따라 다른 값 반환하기\n",
    "\n",
    "\n",
    "def solution(a, b, flag):\n",
    "    answer = 0\n",
    "    if flag is True: #flag가 boolean 변수 \n",
    "        answer=a+b\n",
    "    else:\n",
    "        answer=a-b\n",
    "    return answer"
   ]
  },
  {
   "cell_type": "code",
   "execution_count": null,
   "metadata": {},
   "outputs": [],
   "source": []
  },
  {
   "cell_type": "code",
   "execution_count": 33,
   "metadata": {},
   "outputs": [],
   "source": [
    "# 배열의 길이에 따라 다른 연산하기\n",
    "\n",
    "def solution(arr, n):\n",
    "    \n",
    "    if len(arr)%2 !=0: #길이가 홀수라면\n",
    "        for i in range(len(arr)):\n",
    "            if i %2 ==0:\n",
    "                arr[i]+=n\n",
    "        \n",
    "        \n",
    "    else: #길이가 짝수라면\n",
    "        for i in range(len(arr)):\n",
    "            if i %2 !=0:\n",
    "                arr[i]+=n\n",
    "\n",
    "    answer = arr\n",
    "\n",
    "    return answer\n",
    "\n",
    "\n",
    "\n"
   ]
  },
  {
   "cell_type": "code",
   "execution_count": 34,
   "metadata": {},
   "outputs": [],
   "source": [
    "# 원소들의 곱과 합\n",
    "\n",
    "def solution(num_list):\n",
    "    \n",
    "    a=1\n",
    "    b=0\n",
    "    for i in num_list:\n",
    "       a*=i\n",
    "       b+=i \n",
    "    \n",
    "    answer = 0\n",
    "    if a<b**2:\n",
    "        answer=1\n",
    "    \n",
    "    return answer"
   ]
  },
  {
   "cell_type": "code",
   "execution_count": 35,
   "metadata": {},
   "outputs": [],
   "source": [
    "# 부분 문자열인지 확인하기\n",
    "\n",
    "def solution(my_string, target):\n",
    "    \n",
    "    answer = 0\n",
    "    \n",
    "    if target in my_string:\n",
    "        answer=1\n",
    "    \n",
    "    return answer\n",
    "\n"
   ]
  },
  {
   "cell_type": "code",
   "execution_count": 36,
   "metadata": {},
   "outputs": [],
   "source": [
    "# 접미사인지 확인하기 (실행시간 오류) \n",
    "\n",
    "def solution(my_string, is_suffix):\n",
    "    \n",
    "    i=0\n",
    "    list1=[]\n",
    "    while i <len(my_string):\n",
    "        list1.append(my_string[i:])\n",
    "    \n",
    "    answer = 0\n",
    "    \n",
    "    if is_suffix in list1:\n",
    "        answer=1\n",
    "\n",
    "    return answer\n"
   ]
  },
  {
   "cell_type": "code",
   "execution_count": 38,
   "metadata": {},
   "outputs": [],
   "source": [
    "# 접미사인지 확인하기\n",
    "\n",
    "def solution(my_string, is_suffix):\n",
    "    \n",
    "    answer=0\n",
    "    if (is_suffix in my_string) and my_string[-1]==is_suffix[-1]:\n",
    "        answer=1\n",
    "    \n",
    "    return answer\n",
    "    \n"
   ]
  },
  {
   "cell_type": "code",
   "execution_count": 44,
   "metadata": {},
   "outputs": [],
   "source": [
    "# 배열의 원소 삭제하기\n",
    "\n",
    "def solution(arr, delete_list):\n",
    "    \n",
    "    answer=[]\n",
    "    for i in arr:\n",
    "        if i not in delete_list:\n",
    "            answer.append(i)\n",
    "\n",
    "    return answer\n",
    "\n"
   ]
  },
  {
   "cell_type": "code",
   "execution_count": 45,
   "metadata": {},
   "outputs": [],
   "source": [
    "# 소문자로 바꾸기\n",
    "\n",
    "def solution(myString):\n",
    "    answer = myString.lower()\n",
    "    return answer\n",
    "\n"
   ]
  },
  {
   "cell_type": "code",
   "execution_count": 46,
   "metadata": {},
   "outputs": [
    {
     "name": "stdout",
     "output_type": "stream",
     "text": [
      "HelloWorld\n"
     ]
    }
   ],
   "source": [
    "# 문자열 붙여서 출력하기\n",
    "\n",
    "str1, str2 = input().strip().split(' ')\n",
    "print(str1+str2)"
   ]
  },
  {
   "cell_type": "code",
   "execution_count": 47,
   "metadata": {},
   "outputs": [],
   "source": [
    "# 홀짝에 따라 다른 값 반환하기\n",
    "\n",
    "def solution(n):\n",
    "    answer = 0\n",
    "    if n%2 ==0: #짝수라면\n",
    "        i=1\n",
    "        while i<=(n//2):\n",
    "            answer+=(2*i)**2\n",
    "            i+=1\n",
    "    else: #홀수라면\n",
    "        i=0\n",
    "        while i<=(n//2):\n",
    "            answer+=(2*i)+1\n",
    "            i+=1\n",
    "    return answer"
   ]
  },
  {
   "cell_type": "code",
   "execution_count": 48,
   "metadata": {},
   "outputs": [],
   "source": [
    "# 마지막 두 원소\n",
    "\n",
    "def solution(num_list):\n",
    "    \n",
    "    if num_list[-1]>num_list[-2]:\n",
    "        num_list.append(num_list[-1]-num_list[-2])\n",
    "    else: \n",
    "        num_list.append(num_list[-1]*2)\n",
    "    \n",
    "    answer = num_list\n",
    "    \n",
    "    return answer\n"
   ]
  },
  {
   "cell_type": "code",
   "execution_count": 49,
   "metadata": {},
   "outputs": [],
   "source": [
    "# 문자열 곱하기\n",
    "\n",
    "\n",
    "def solution(my_string, k):\n",
    "    answer = my_string*k\n",
    "    return answer\n",
    "\n"
   ]
  },
  {
   "cell_type": "code",
   "execution_count": 50,
   "metadata": {},
   "outputs": [],
   "source": [
    "# 더 크게 합치기\n",
    "\n",
    "def solution(a, b):\n",
    "    x=int(str(a)+str(b))\n",
    "    y=int(str(b)+str(a))\n",
    "    \n",
    "    if x>y:\n",
    "        answer=x\n",
    "    else:\n",
    "        answer=y\n",
    "\n",
    "    return answer\n",
    "\n"
   ]
  },
  {
   "cell_type": "code",
   "execution_count": 51,
   "metadata": {},
   "outputs": [],
   "source": [
    "# 문자열의 앞의 n글자\n",
    "\n",
    "def solution(my_string, n):\n",
    "    answer = my_string[:n]\n",
    "    return answer\n",
    "\n"
   ]
  },
  {
   "cell_type": "code",
   "execution_count": 52,
   "metadata": {},
   "outputs": [],
   "source": [
    "# 문자열로 변환\n",
    "\n",
    "def solution(n):\n",
    "    answer = str(n)\n",
    "    return answer"
   ]
  },
  {
   "cell_type": "code",
   "execution_count": 53,
   "metadata": {},
   "outputs": [],
   "source": [
    "# 주사위 게임1\n",
    "\n",
    "\n",
    "def solution(a, b):\n",
    "    answer=0\n",
    "    \n",
    "    if a%2==0 and b%2==0: #둘다 짝수라면\n",
    "        answer=abs(a-b)\n",
    "    elif a%2!=0 and b%2!=0:\n",
    "        answer=a**2+b**2\n",
    "    else:\n",
    "        answer=2*(a+b)\n",
    "\n",
    "    return answer\n"
   ]
  },
  {
   "cell_type": "code",
   "execution_count": 54,
   "metadata": {},
   "outputs": [],
   "source": [
    "# 수 조작하기1\n",
    "\n",
    "\n",
    "def solution(n, control):\n",
    "    \n",
    "    for i in control:\n",
    "        if i =='w':\n",
    "            n+=1\n",
    "        elif i =='s':\n",
    "            n-=1\n",
    "        elif i =='d':\n",
    "            n+=10\n",
    "        else:\n",
    "            n-=10  \n",
    "    \n",
    "    answer = n\n",
    "    \n",
    "    return answer\n"
   ]
  },
  {
   "cell_type": "code",
   "execution_count": 55,
   "metadata": {},
   "outputs": [],
   "source": [
    "# 조건에 맞게 수열 변환하기 3\n",
    "\n",
    "def solution(arr, k):\n",
    "    \n",
    "    if k%2!=0: #k가 홀수라면\n",
    "        for i in range(len(arr)):\n",
    "            arr[i]*=k\n",
    "    else:\n",
    "        for i in range(len(arr)):\n",
    "            arr[i]+=k\n",
    "      \n",
    "    answer = arr\n",
    "    \n",
    "    return answer"
   ]
  },
  {
   "cell_type": "code",
   "execution_count": 56,
   "metadata": {},
   "outputs": [],
   "source": [
    "# 정수찾기\n",
    "\n",
    "def solution(num_list, n):\n",
    "\n",
    "    answer = 0\n",
    "    if n in num_list:\n",
    "        answer=1\n",
    "\n",
    "\n",
    "    return answer\n",
    "\n",
    "\n"
   ]
  },
  {
   "cell_type": "code",
   "execution_count": 57,
   "metadata": {},
   "outputs": [],
   "source": [
    "# 대문자로 바꾸기\n",
    "\n",
    "def solution(myString):\n",
    "    answer=myString.upper()\n",
    "    \n",
    "    return answer\n",
    "    \n"
   ]
  },
  {
   "cell_type": "code",
   "execution_count": 58,
   "metadata": {},
   "outputs": [],
   "source": [
    "# 5명씩\n",
    "\n",
    "def solution(names):\n",
    "    answer = names[::5]\n",
    "    return answer\n"
   ]
  },
  {
   "cell_type": "code",
   "execution_count": 60,
   "metadata": {},
   "outputs": [],
   "source": [
    "# 길이에 따른 연산\n",
    "\n",
    "def solution(num_list):\n",
    "    \n",
    "    if len(num_list)>=11:\n",
    "        answer = 0\n",
    "        for i in num_list:\n",
    "            answer+=i\n",
    "    else:\n",
    "        answer=1\n",
    "        for i in num_list:\n",
    "            answer*=i\n",
    "    \n",
    "    return answer\n"
   ]
  },
  {
   "cell_type": "code",
   "execution_count": 62,
   "metadata": {},
   "outputs": [],
   "source": [
    "# 접두사인지 확인하기\n",
    "\n",
    "def solution(my_string, is_prefix):\n",
    "    \n",
    "    answer = 0\n",
    "    if is_prefix in my_string and my_string[:len(is_prefix)]==is_prefix:\n",
    "        answer=1\n",
    "    return answer\n",
    "\n",
    "\n"
   ]
  },
  {
   "cell_type": "code",
   "execution_count": 63,
   "metadata": {},
   "outputs": [],
   "source": [
    "# 원하는 문자열 찾기\n",
    "\n",
    "def solution(myString, pat):\n",
    "    \n",
    "    myString=myString.lower()\n",
    "    pat=pat.lower()\n",
    "    \n",
    "    answer=0\n",
    "    if pat in myString:\n",
    "        answer=1\n",
    "\n",
    "    return answer\n"
   ]
  },
  {
   "cell_type": "code",
   "execution_count": 74,
   "metadata": {},
   "outputs": [],
   "source": [
    "# 특정한 문자를 대문자로 바꾸기\n",
    "\n",
    "def solution(my_string, alp):\n",
    "    for i in my_string:\n",
    "        if i in alp:\n",
    "            my_string=my_string.replace(i,i.upper())\n",
    "    answer = my_string\n",
    "    return answer\n",
    "\n"
   ]
  },
  {
   "cell_type": "code",
   "execution_count": 75,
   "metadata": {},
   "outputs": [
    {
     "name": "stdout",
     "output_type": "stream",
     "text": [
      "100 is even\n"
     ]
    }
   ],
   "source": [
    "# 홀짝 구분하기\n",
    "\n",
    "a = int(input())\n",
    "if a %2==0:\n",
    "    print('{} is even'.format(a))\n",
    "\n",
    "else:\n",
    "    print('{} is odd'.format(a))"
   ]
  },
  {
   "cell_type": "code",
   "execution_count": 1,
   "metadata": {},
   "outputs": [],
   "source": [
    "# 카운트 다운\n",
    "\n",
    "def solution(start, end_num):\n",
    "    answer = []\n",
    "    for i in range(start,end_num-1,-1):\n",
    "        answer.append(i)\n",
    "    \n",
    "    return answer\n",
    "\n"
   ]
  },
  {
   "cell_type": "code",
   "execution_count": 4,
   "metadata": {},
   "outputs": [
    {
     "data": {
      "text/plain": [
       "[10, 9, 8, 7, 6, 5, 4, 3]"
      ]
     },
     "execution_count": 4,
     "metadata": {},
     "output_type": "execute_result"
    }
   ],
   "source": [
    "\n",
    "answer = []\n",
    "for i in range(10,3-1,-1):\n",
    "    answer.append(i)\n",
    "    \n",
    "answer"
   ]
  },
  {
   "cell_type": "code",
   "execution_count": 5,
   "metadata": {},
   "outputs": [],
   "source": [
    "# 공백으로 구분하기 1\n",
    "\n",
    "def solution(my_string):\n",
    "    answer = list(my_string.split(' '))\n",
    "    return answer\n",
    "\n",
    "\n",
    "\n",
    "\n"
   ]
  },
  {
   "cell_type": "code",
   "execution_count": 7,
   "metadata": {},
   "outputs": [
    {
     "data": {
      "text/plain": [
       "['i', 'love', 'you']"
      ]
     },
     "execution_count": 7,
     "metadata": {},
     "output_type": "execute_result"
    }
   ],
   "source": [
    "my_string=\"i love you\"\n",
    "answer = list(my_string.split(' '))\n",
    "answer"
   ]
  },
  {
   "cell_type": "code",
   "execution_count": 8,
   "metadata": {},
   "outputs": [],
   "source": [
    "# 첫 번째로 나오는 음수\n",
    "\n",
    "def solution(num_list):\n",
    "    answer = -1\n",
    "    \n",
    "    for i in range(len(num_list)):\n",
    "        if num_list[i] <0:\n",
    "            answer=i\n",
    "            break\n",
    "    \n",
    "    \n",
    "    return answer\n",
    "\n"
   ]
  },
  {
   "cell_type": "code",
   "execution_count": 16,
   "metadata": {},
   "outputs": [],
   "source": [
    "# 배열에서 문자열 대소문자 변환하기\n",
    "\n",
    "def solution(strArr):\n",
    "    \n",
    "    answer=[]\n",
    "    \n",
    "    for i in range(len(strArr)):\n",
    "        if i %2==0:\n",
    "            strArr[i]=strArr[i].lower()\n",
    "        else:\n",
    "            strArr[i]=strArr[i].upper()\n",
    "            \n",
    "        answer.append(strArr[i])\n",
    "    \n",
    "    return answer"
   ]
  },
  {
   "cell_type": "code",
   "execution_count": 26,
   "metadata": {},
   "outputs": [],
   "source": [
    "# 문자열 바꿔서 찾기\n",
    "\n",
    "def solution(myString,pat):\n",
    "    \n",
    "    result=[]\n",
    "    for i in myString:\n",
    "        if i=='A':\n",
    "            result.append('B')\n",
    "        else:\n",
    "            result.append('A')     \n",
    "    result=''.join(result)      \n",
    "    \n",
    "    answer=0\n",
    "    if pat in result:\n",
    "        answer=1\n",
    "      \n",
    "    return answer\n",
    "\n"
   ]
  },
  {
   "cell_type": "code",
   "execution_count": 27,
   "metadata": {},
   "outputs": [],
   "source": [
    "# 공백으로 구분하기 2\n",
    "\n",
    "def solution(my_string):\n",
    "    answer = list(my_string.split())\n",
    "    \n",
    "    return answer\n",
    "\n"
   ]
  },
  {
   "cell_type": "code",
   "execution_count": 28,
   "metadata": {},
   "outputs": [],
   "source": [
    "\n",
    "# n개 간격의 원소들\n",
    "\n",
    "def solution(num_list, n):\n",
    "    answer = num_list[::n]\n",
    "    return answer\n",
    "\n",
    "\n"
   ]
  },
  {
   "cell_type": "code",
   "execution_count": 29,
   "metadata": {},
   "outputs": [],
   "source": [
    "\n",
    "# 글자 이어 붙여 문자열 만들기\n",
    "\n",
    "def solution(my_string, index_list):\n",
    "    answer = ''\n",
    "    for i in range(len(index_list)):\n",
    "        answer+=my_string[index_list[i]]\n",
    "    \n",
    "    return answer\n",
    "\n",
    "\n",
    "\n",
    "\n"
   ]
  },
  {
   "cell_type": "code",
   "execution_count": 32,
   "metadata": {},
   "outputs": [],
   "source": [
    "\n",
    "# 카운트 업\n",
    "\n",
    "\n",
    "def solution(start_num, end_num):\n",
    "    answer = list(range(start_num,end_num+1))\n",
    "    return answer\n"
   ]
  },
  {
   "cell_type": "code",
   "execution_count": 36,
   "metadata": {},
   "outputs": [],
   "source": [
    "\n",
    "# 문자열 뒤의 n글자\n",
    "\n",
    "def solution(my_string, n):\n",
    "    answer = my_string[len(my_string)-n:]\n",
    "    return answer\n"
   ]
  },
  {
   "cell_type": "code",
   "execution_count": null,
   "metadata": {},
   "outputs": [],
   "source": [
    "# 순서 바꾸기\n",
    "\n",
    "def solution(num_list, n):\n",
    "    \n",
    "    answer = num_list[n:]\n",
    "    answer=answer+ num_list[:n]\n",
    "    \n",
    "    return answer\n",
    "\n",
    "\n"
   ]
  },
  {
   "cell_type": "code",
   "execution_count": 37,
   "metadata": {},
   "outputs": [
    {
     "data": {
      "text/plain": [
       "[1, 2, 3, 4]"
      ]
     },
     "execution_count": 37,
     "metadata": {},
     "output_type": "execute_result"
    }
   ],
   "source": [
    "[1,2]+[3,4]"
   ]
  },
  {
   "cell_type": "code",
   "execution_count": 38,
   "metadata": {},
   "outputs": [],
   "source": [
    "# n보다 커질 때까지 더하기\n",
    "\n",
    "def solution(numbers, n):\n",
    "    answer=0\n",
    "    for i in range(len(numbers)):\n",
    "        if answer>n:\n",
    "            break\n",
    "        answer+=numbers[i]\n",
    "    \n",
    "    return answer\n",
    "\n"
   ]
  },
  {
   "cell_type": "code",
   "execution_count": 39,
   "metadata": {},
   "outputs": [],
   "source": [
    "# 배열 비교하기\n",
    "\n",
    "\n",
    "def solution(arr1, arr2):\n",
    "    \n",
    "    answer=0\n",
    "    if len(arr1)==len(arr2):\n",
    "        if sum(arr1)<sum(arr2):\n",
    "            answer=-1\n",
    "        elif sum(arr1)>sum(arr2):\n",
    "            answer=1\n",
    "    else:\n",
    "        if len(arr1)<len(arr2):\n",
    "            answer=-1\n",
    "        else:\n",
    "            answer=1\n",
    "            \n",
    "    return answer\n",
    "\n",
    "\n"
   ]
  },
  {
   "cell_type": "code",
   "execution_count": 40,
   "metadata": {},
   "outputs": [],
   "source": [
    "\n",
    "# 배열 만들기 1\n",
    "\n",
    "\n",
    "def solution(n, k):\n",
    "    \n",
    "    answer=[]\n",
    "    i=1\n",
    "    while k*i<=n:\n",
    "       answer.append(k*i)\n",
    "       i+=1 \n",
    "       \n",
    "    return answer\n",
    "\n"
   ]
  },
  {
   "cell_type": "code",
   "execution_count": 41,
   "metadata": {},
   "outputs": [],
   "source": [
    "# 뒤에서 5등까지\n",
    "\n",
    "def solution(num_list):\n",
    "    \n",
    "    num_list=sorted(num_list)\n",
    "    \n",
    "    answer = num_list[:5]\n",
    "    return answer\n",
    "\n"
   ]
  },
  {
   "cell_type": "code",
   "execution_count": 44,
   "metadata": {},
   "outputs": [],
   "source": [
    "# 배열의 원소만큼 추가하기 \n",
    "\n",
    "def solution(arr):\n",
    "    answer = []\n",
    "    for i in arr:\n",
    "        for j in range(i):\n",
    "            answer.append(i)\n",
    "\n",
    "    return answer\n",
    "\n",
    "\n"
   ]
  },
  {
   "cell_type": "code",
   "execution_count": 45,
   "metadata": {},
   "outputs": [],
   "source": [
    "# 홀수 vs 짝수\n",
    "\n",
    "def solution(num_list):\n",
    "    a=num_list[::2]\n",
    "    b=num_list[1::2]\n",
    "    a=sum(a)\n",
    "    b=sum(b)\n",
    "    \n",
    "    if a>b:\n",
    "        answer=a\n",
    "    elif a<b:\n",
    "        answer=b\n",
    "    else:\n",
    "        answer=a\n",
    "\n",
    "    return answer\n",
    "\n"
   ]
  },
  {
   "cell_type": "code",
   "execution_count": 46,
   "metadata": {},
   "outputs": [],
   "source": [
    "# 조건에 맞게 수열 변환하기 1\n",
    "\n",
    "def solution(arr):\n",
    "    \n",
    "    answer = []\n",
    "    \n",
    "    for i in arr:\n",
    "        if i>=50 and i%2==0:\n",
    "            answer.append(i/2)\n",
    "        elif i<50 and i%2 !=0:\n",
    "            answer.append(i*2)\n",
    "        else:\n",
    "            answer.append(i)\n",
    "    \n",
    "    \n",
    "    return answer\n",
    "\n",
    "\n"
   ]
  },
  {
   "cell_type": "code",
   "execution_count": 47,
   "metadata": {},
   "outputs": [
    {
     "data": {
      "text/plain": [
       "10"
      ]
     },
     "execution_count": 47,
     "metadata": {},
     "output_type": "execute_result"
    }
   ],
   "source": [
    "n_str='0010'\n",
    "int(n_str)"
   ]
  },
  {
   "cell_type": "code",
   "execution_count": 48,
   "metadata": {},
   "outputs": [],
   "source": [
    "# 0 떼기\n",
    "\n",
    "def solution(n_str):\n",
    "    answer=str(int(n_str))\n",
    "    return answer"
   ]
  },
  {
   "cell_type": "code",
   "execution_count": 49,
   "metadata": {},
   "outputs": [],
   "source": [
    "# 부분 문자열 이어 붙여 문자열 만들기\n",
    "\n",
    "def solution(my_strings, parts):\n",
    "    answer = ''\n",
    "    for i in range(len(parts)):\n",
    "        answer+=my_strings[i][parts[i][0]:parts[i][1]+1]\n",
    "    return answer\n",
    "\n",
    "\n"
   ]
  },
  {
   "cell_type": "code",
   "execution_count": 50,
   "metadata": {},
   "outputs": [],
   "source": [
    "# 할 일 목록\n",
    "\n",
    "def solution(todo_list, finished):\n",
    "    answer = []\n",
    "    for i in range(len(finished)):\n",
    "        if finished[i] is False:\n",
    "            answer.append(todo_list[i])\n",
    "\n",
    "    return answer"
   ]
  },
  {
   "cell_type": "code",
   "execution_count": 51,
   "metadata": {},
   "outputs": [],
   "source": [
    "# x 사이의 개수\n",
    "\n",
    "def solution(myString):\n",
    "    \n",
    "    answer = []\n",
    "    count=0\n",
    "    for i in range(len(myString)):\n",
    "        if myString[i]=='x':\n",
    "            answer.append(count)\n",
    "            count=0\n",
    "            if i==len(myString)-1:\n",
    "                answer.append(count)\n",
    "            \n",
    "        else:\n",
    "            count+=1\n",
    "            if i==len(myString)-1:\n",
    "                answer.append(count)\n",
    "\n",
    "    return answer\n",
    "\n"
   ]
  },
  {
   "cell_type": "code",
   "execution_count": 52,
   "metadata": {},
   "outputs": [],
   "source": [
    "# 특별한 이차원 배열 2\n",
    "\n",
    "\n",
    "def solution(arr):\n",
    "    \n",
    "    n=len(arr)\n",
    "    answer = 1\n",
    "    for i in range(n):\n",
    "        for j in range(n):\n",
    "            if arr[i][j] != arr[j][i]:\n",
    "                answer=0\n",
    "                break\n",
    "    \n",
    "    return answer\n",
    "\n",
    "\n"
   ]
  },
  {
   "cell_type": "code",
   "execution_count": 53,
   "metadata": {},
   "outputs": [],
   "source": [
    "# 콜라츠 수열 만들기\n",
    "\n",
    "def solution(n):\n",
    "    answer=[]\n",
    "    answer.append(n)\n",
    "    while n !=1:\n",
    "        if n %2==0:\n",
    "            n=n/2\n",
    "            answer.append(n)\n",
    "        else:\n",
    "            n=n*3+1\n",
    "            answer.append(n)\n",
    "\n",
    "\n",
    "    return answer\n",
    "\n",
    "\n"
   ]
  },
  {
   "cell_type": "code",
   "execution_count": 54,
   "metadata": {},
   "outputs": [],
   "source": [
    "# 두 수의 연산값 비교하기\n",
    "\n",
    "def solution(a, b):\n",
    "    \n",
    "    x=int(str(a)+str(b))\n",
    "    y=2*a*b\n",
    "    if x>y:\n",
    "        answer=x\n",
    "    elif x<y:\n",
    "        answer=y\n",
    "    else:\n",
    "        answer=x\n",
    "    \n",
    "    return answer\n"
   ]
  },
  {
   "cell_type": "code",
   "execution_count": 55,
   "metadata": {},
   "outputs": [],
   "source": [
    "# 가까운 1 찾기\n",
    "\n",
    "def solution(arr, idx):\n",
    "    answer = -1\n",
    "    for i in range(idx,len(arr)):\n",
    "        if arr[i]==1:\n",
    "            answer=i\n",
    "            break\n",
    "    return answer\n",
    "\n",
    "\n",
    "\n"
   ]
  },
  {
   "cell_type": "code",
   "execution_count": 56,
   "metadata": {},
   "outputs": [],
   "source": [
    "# ad 제거하기\n",
    "\n",
    "def solution(strArr):\n",
    "    \n",
    "    answer = []\n",
    "    for i in strArr:\n",
    "        if 'ad' not in i:\n",
    "            answer.append(i)\n",
    " \n",
    "    return answer\n"
   ]
  },
  {
   "cell_type": "code",
   "execution_count": 57,
   "metadata": {},
   "outputs": [],
   "source": [
    "# 문자열 잘라서 정렬하기\n",
    "\n",
    "def solution(myString):\n",
    "    answer = list(myString.split('x'))\n",
    "    answer=sorted(answer)\n",
    "    answer=' '.join(answer).split()\n",
    "    return answer"
   ]
  },
  {
   "cell_type": "code",
   "execution_count": 1,
   "metadata": {},
   "outputs": [],
   "source": [
    "# A 강조하기\n",
    "\n",
    "def solution(myString):\n",
    "    \n",
    "    myString=myString.lower()\n",
    "    answer=myString.replace('a','A')\n",
    "    \n",
    "    return answer\n"
   ]
  },
  {
   "cell_type": "code",
   "execution_count": 3,
   "metadata": {},
   "outputs": [],
   "source": [
    "# 간단한 식 계산하기\n",
    "\n",
    "def solution(binomial):\n",
    "    answer = eval(binomial)\n",
    "    return answer\n"
   ]
  },
  {
   "cell_type": "code",
   "execution_count": null,
   "metadata": {},
   "outputs": [],
   "source": [
    "# 특별한 이차원 배열 1\n",
    "\n",
    "def solution(n):\n",
    "    \n",
    "    answer=[]\n",
    "    for i in range(n):\n",
    "        answer.append([])\n",
    "        for j in range(n):\n",
    "            answer[i].append(0)\n",
    "\n",
    "    for i in range(len(answer)):\n",
    "        answer[i][i]=1\n",
    "\n",
    "    \n",
    "    return answer\n",
    "\n",
    "\n"
   ]
  },
  {
   "cell_type": "code",
   "execution_count": 31,
   "metadata": {},
   "outputs": [
    {
     "name": "stdout",
     "output_type": "stream",
     "text": [
      "4 + 5 = 9\n"
     ]
    }
   ],
   "source": [
    "# 덧셈식 출력하기\n",
    "a, b = map(int, input().strip().split(' '))\n",
    "print('{} + {} ='.format(a,b),a+b)\n",
    "\n"
   ]
  },
  {
   "cell_type": "code",
   "execution_count": 32,
   "metadata": {},
   "outputs": [],
   "source": [
    "# 접미사 배열\n",
    "\n",
    "def solution(my_string):\n",
    "    answer = []\n",
    "    \n",
    "    for i in range(len(my_string)):\n",
    "        answer.append(my_string[i:])\n",
    "    answer=sorted(answer)\n",
    "\n",
    "    return answer\n",
    "\n",
    "\n"
   ]
  },
  {
   "cell_type": "code",
   "execution_count": 9,
   "metadata": {},
   "outputs": [],
   "source": [
    "# I로 만들기\n",
    "\n",
    "def solution(myString):\n",
    "    \n",
    "    for i in range(len(myString)):\n",
    "        if myString[i]<'l':\n",
    "            myString=myString.replace(myString[i],'l')\n",
    "    \n",
    "    answer = myString\n",
    "    \n",
    "    return answer\n",
    "\n"
   ]
  },
  {
   "cell_type": "code",
   "execution_count": 8,
   "metadata": {},
   "outputs": [
    {
     "data": {
      "text/plain": [
       "True"
      ]
     },
     "execution_count": 8,
     "metadata": {},
     "output_type": "execute_result"
    }
   ],
   "source": [
    "'l'<'v'"
   ]
  },
  {
   "cell_type": "code",
   "execution_count": 1,
   "metadata": {},
   "outputs": [],
   "source": [
    "# 수 조작하기 2\n",
    "\n",
    "def solution(numLog):\n",
    "    \n",
    "    answer = ''\n",
    "    for i in range(1, len(numLog)):\n",
    "        if numLog[i]-numLog[i-1]==1:\n",
    "            answer+='w'\n",
    "        elif numLog[i]-numLog[i-1]==-1:\n",
    "            answer+='s'\n",
    "        elif numLog[i]-numLog[i-1]==10:\n",
    "            answer+='d'\n",
    "        else:\n",
    "            answer+='a'\n",
    "    \n",
    "    return answer"
   ]
  },
  {
   "cell_type": "code",
   "execution_count": 2,
   "metadata": {},
   "outputs": [],
   "source": [
    "# 문자 리스트를 문자열로 변환하기\n",
    "\n",
    "def solution(arr):\n",
    "    \n",
    "    answer = ''.join(arr)\n",
    "    \n",
    "    return answer\n",
    "\n",
    "\n"
   ]
  },
  {
   "cell_type": "code",
   "execution_count": 3,
   "metadata": {},
   "outputs": [
    {
     "name": "stdout",
     "output_type": "stream",
     "text": [
      "a\n",
      "b\n",
      "c\n",
      "e\n",
      "d\n"
     ]
    }
   ],
   "source": [
    "# 문자열 돌리기\n",
    "\n",
    "str = input()\n",
    "for i in str:\n",
    "    print(i)\n",
    "\n",
    "\n"
   ]
  },
  {
   "cell_type": "code",
   "execution_count": null,
   "metadata": {},
   "outputs": [],
   "source": [
    "# 주사위 게임 2\n",
    "\n",
    "def solution(a, b, c):\n",
    "    if a==b==c:\n",
    "        answer=(a+b+c)*(a**2+b**2+c**2)*(a**3+b**3+c**3)\n",
    "    elif a==b or b==c or a==c:\n",
    "        answer=(a+b+c)*(a**2+b**2+c**2)\n",
    "    else:\n",
    "        answer=a+b+c\n",
    "    return answer\n"
   ]
  },
  {
   "cell_type": "code",
   "execution_count": 4,
   "metadata": {},
   "outputs": [
    {
     "data": {
      "text/plain": [
       "8"
      ]
     },
     "execution_count": 4,
     "metadata": {},
     "output_type": "execute_result"
    }
   ],
   "source": [
    "2**3"
   ]
  },
  {
   "cell_type": "code",
   "execution_count": 5,
   "metadata": {},
   "outputs": [],
   "source": [
    "# 9로 나눈 나머지\n",
    "\n",
    "def solution(number):\n",
    "    \n",
    "    answer = 0\n",
    "    for i in range(len(number)):\n",
    "        answer+=int(number[i])\n",
    "    answer=answer%9\n",
    "    \n",
    "    return answer\n",
    "\n"
   ]
  },
  {
   "cell_type": "code",
   "execution_count": null,
   "metadata": {},
   "outputs": [],
   "source": []
  },
  {
   "cell_type": "code",
   "execution_count": 10,
   "metadata": {},
   "outputs": [],
   "source": [
    "# 세로 읽기\n",
    "\n",
    "def solution(my_string, m, c):\n",
    "    \n",
    "    a=[]\n",
    "    i=0\n",
    "    while i+m<=len(my_string):\n",
    "        a.append(my_string[i:i+m])\n",
    "        i+=m\n",
    "        \n",
    "    answer = ''\n",
    "    for j in range(len(a)):\n",
    "        answer+=a[j][c-1]\n",
    "    \n",
    "    return answer"
   ]
  },
  {
   "cell_type": "code",
   "execution_count": 11,
   "metadata": {},
   "outputs": [],
   "source": [
    "# 글자 지우기\n",
    "\n",
    "\n",
    "def solution(my_string, indices):\n",
    "    answer = ''\n",
    "    for i in range(len(my_string)):\n",
    "        if i not in indices:\n",
    "            answer+=my_string[i]\n",
    "\n",
    "    return answer"
   ]
  },
  {
   "cell_type": "code",
   "execution_count": 12,
   "metadata": {},
   "outputs": [],
   "source": [
    "# 문자열 섞기\n",
    "\n",
    "def solution(str1, str2):\n",
    "    \n",
    "    answer = ''\n",
    "    for i in range(len(str1)):\n",
    "        answer+=str1[i]\n",
    "        answer+=str2[i]\n",
    "\n",
    "    return answer\n",
    "\n"
   ]
  },
  {
   "cell_type": "code",
   "execution_count": 1,
   "metadata": {},
   "outputs": [],
   "source": [
    "# 1로 만들기\n",
    "\n",
    "def solution(num_list):\n",
    "     \n",
    "    answer = 0\n",
    "    for i in range(len(num_list)):\n",
    "        a=num_list[i]\n",
    "        while a !=1:\n",
    "            if a%2==0:\n",
    "                a/=2\n",
    "                answer+=1\n",
    "            else:\n",
    "                a=(a-1)/2\n",
    "                answer+=1\n",
    "                \n",
    "    return answer"
   ]
  },
  {
   "cell_type": "code",
   "execution_count": 3,
   "metadata": {},
   "outputs": [],
   "source": [
    "# 배열 만들기 3\n",
    "\n",
    "def solution(arr, intervals):\n",
    "    \n",
    "    a=(arr[intervals[0][0]:intervals[0][1]+1])\n",
    "    b=(arr[intervals[1][0]:intervals[1][1]+1])\n",
    "    answer=a+b\n",
    "    return answer\n",
    "\n"
   ]
  },
  {
   "cell_type": "code",
   "execution_count": 10,
   "metadata": {},
   "outputs": [],
   "source": [
    "# 수열과 구간 쿼리 1\n",
    "\n",
    "def solution(arr, queries):\n",
    "    \n",
    "    for i in range(len(queries)):\n",
    "        for j in range(queries[i][0],queries[i][1]+1):\n",
    "            arr[j]=arr[j]+1\n",
    "    \n",
    "    answer = arr\n",
    "    \n",
    "    return answer\n",
    "\n",
    "\n"
   ]
  },
  {
   "cell_type": "code",
   "execution_count": 3,
   "metadata": {},
   "outputs": [],
   "source": [
    "#날짜 비교하기 (정답)\n",
    "\n",
    "def solution(date1, date2):\n",
    "    \n",
    "    \n",
    "    if date1[0]<date2[0]:\n",
    "        answer=1\n",
    "    elif date1[0]>date2[0]:\n",
    "        answer=0\n",
    "    else:\n",
    "        if date1[1]<date2[1]:\n",
    "            answer=1\n",
    "        elif date1[1]>date2[1]:\n",
    "            answer=0\n",
    "        else:\n",
    "            if date1[2]<date2[2]:\n",
    "                answer=1\n",
    "            elif date1[2]>=date2[2]:\n",
    "                answer=0\n",
    "    \n",
    "    return answer"
   ]
  },
  {
   "cell_type": "code",
   "execution_count": 4,
   "metadata": {},
   "outputs": [],
   "source": [
    "# 등차 수열의 특정한 항만 더하기\n",
    "\n",
    "def solution(a, d, included):\n",
    "    \n",
    "    answer = 0\n",
    "    result=[]\n",
    "    for i in range(len(included)):\n",
    "        result.append(a+d*i)\n",
    "        if included[i]==True:\n",
    "            answer+=result[i]\n",
    "    \n",
    "    return answer\n",
    "\n"
   ]
  },
  {
   "cell_type": "code",
   "execution_count": null,
   "metadata": {},
   "outputs": [],
   "source": [
    "# 이차원 배열 대각선 순회하기\n",
    "\n",
    "def solution(board, k):\n",
    "    \n",
    "    \n",
    "    \n",
    "    answer = 0\n",
    "    \n",
    "    \n",
    "    \n",
    "    return answer\n",
    "\n",
    "\n",
    "\n",
    "\n"
   ]
  },
  {
   "cell_type": "code",
   "execution_count": 5,
   "metadata": {},
   "outputs": [],
   "source": [
    "# 수열과 구간 쿼리 3\n",
    "\n",
    "def solution(arr, queries):\n",
    "    \n",
    "    for i in range(len(queries)):\n",
    "        a=arr[queries[i][0]]\n",
    "        arr[queries[i][0]]=arr[queries[i][1]]\n",
    "        arr[queries[i][1]]=a\n",
    "    answer=arr\n",
    "            \n",
    "    return answer\n",
    "\n"
   ]
  },
  {
   "cell_type": "code",
   "execution_count": 1,
   "metadata": {},
   "outputs": [
    {
     "name": "stdout",
     "output_type": "stream",
     "text": [
      "stringstringstringstringstring\n"
     ]
    }
   ],
   "source": [
    "# 문자열 반복해서 출력하기\n",
    "\n",
    "a, b = input().strip().split(' ')\n",
    "b = int(b)\n",
    "print(a*b)\n",
    "\n"
   ]
  },
  {
   "cell_type": "code",
   "execution_count": 2,
   "metadata": {},
   "outputs": [],
   "source": [
    "# 배열 만들기 5\n",
    "\n",
    "def solution(intStrs, k, s, l):\n",
    "\n",
    "    answer = []\n",
    "    result=[]\n",
    "    for i in range(len(intStrs)):\n",
    "        answer.append(intStrs[i][s:s+l])\n",
    "        if int(answer[i])>k:\n",
    "            result.append(int(answer[i]))\n",
    "    \n",
    "    return result\n",
    "\n"
   ]
  },
  {
   "cell_type": "code",
   "execution_count": 3,
   "metadata": {},
   "outputs": [],
   "source": [
    "# 간단한 논리 연산\n",
    "\n",
    "\n",
    "def solution(x1, x2, x3, x4):\n",
    "\n",
    "    answer = (x1|x2)&(x3|x4)\n",
    "    \n",
    "    return answer\n"
   ]
  },
  {
   "cell_type": "code",
   "execution_count": 4,
   "metadata": {},
   "outputs": [],
   "source": [
    "# 수열과 구간 쿼리 4\n",
    "\n",
    "def solution(arr, queries):\n",
    "    \n",
    "    for i in range(len(queries)):\n",
    "        k=queries[i][2]\n",
    "        for j in range(queries[i][0],queries[i][1]+1):\n",
    "            if j%k==0:\n",
    "                arr[j]+=1\n",
    "    answer=arr\n",
    "    \n",
    "    return answer\n",
    "\n",
    "\n"
   ]
  },
  {
   "cell_type": "code",
   "execution_count": 11,
   "metadata": {},
   "outputs": [],
   "source": [
    "# 문자열 뒤집기\n",
    "\n",
    "def solution(my_string, s, e):\n",
    "    \n",
    "    a=list(my_string)\n",
    "    answer=[]\n",
    "    for i in range(s): #s값 전까지 추가\n",
    "        answer.append(a[i])\n",
    "    for i in range(e,s-1,-1): #s부터 e까지 반대로 추가\n",
    "        answer.append(a[i])\n",
    "    for i in range(e+1,len(my_string)): #e이후부터 다시 그대로 추가\n",
    "        answer.append(a[i])\n",
    "        \n",
    "    answer = ''.join(answer) #리스트를 문자열로 \n",
    "    return answer\n",
    "\n"
   ]
  },
  {
   "cell_type": "code",
   "execution_count": null,
   "metadata": {},
   "outputs": [],
   "source": []
  },
  {
   "cell_type": "code",
   "execution_count": 12,
   "metadata": {},
   "outputs": [],
   "source": [
    "# 리스트 자르기\n",
    "\n",
    "def solution(n, slicer, num_list):\n",
    "    \n",
    "    if n==1:\n",
    "        answer=num_list[0:slicer[1]+1]\n",
    "    elif n==2:\n",
    "        answer=num_list[slicer[0]:]\n",
    "    elif n==3:\n",
    "        answer=num_list[slicer[0]:slicer[1]+1]\n",
    "    elif n==4:\n",
    "        answer=num_list[slicer[0]:slicer[1]+1:slicer[2]]\n",
    "    \n",
    "    return answer\n",
    "\n",
    "\n"
   ]
  },
  {
   "cell_type": "code",
   "execution_count": 1,
   "metadata": {},
   "outputs": [
    {
     "data": {
      "text/plain": [
       "[1, 4, 2, 5]"
      ]
     },
     "execution_count": 1,
     "metadata": {},
     "output_type": "execute_result"
    }
   ],
   "source": [
    "ar=[1, 4, 2, 5, 3]\n",
    "ar[:4]"
   ]
  },
  {
   "cell_type": "code",
   "execution_count": 2,
   "metadata": {},
   "outputs": [],
   "source": [
    "# 배열 만들기 4\n",
    "\n",
    "def solution(arr):\n",
    "    \n",
    "    i=0\n",
    "    stk = []\n",
    "    while i<len(arr):\n",
    "    \n",
    "        if len(stk)==0:\n",
    "            stk.append(arr[i])\n",
    "            i+=1\n",
    "        elif len(stk)!=0 and stk[len(stk)-1]<arr[i]:\n",
    "            stk.append(arr[i])\n",
    "            i+=1\n",
    "        elif len(stk)!=0 and stk[len(stk)-1]>=arr[i]:\n",
    "            stk=stk[:len(stk)-1]\n",
    "\n",
    "    return stk\n",
    "\n",
    "\n"
   ]
  },
  {
   "cell_type": "code",
   "execution_count": 3,
   "metadata": {},
   "outputs": [],
   "source": [
    "# qr code\n",
    "\n",
    "def solution(q, r, code):\n",
    "    \n",
    "    answer=[]\n",
    "    for i in range(len(code)):\n",
    "        if i%q==r:\n",
    "            answer.append(code[i])\n",
    "    answer = ''.join(answer)\n",
    "    \n",
    "    return answer"
   ]
  },
  {
   "cell_type": "code",
   "execution_count": 4,
   "metadata": {},
   "outputs": [],
   "source": [
    "# 2의 영역\n",
    "\n",
    "def solution(arr):\n",
    "\n",
    "    answer = []\n",
    "    index=[]\n",
    "    for i in range(len(arr)):\n",
    "        if arr[i]==2:\n",
    "            index.append(i)\n",
    "            \n",
    "    if len(index)==0:\n",
    "        answer.append(-1)\n",
    "    else:\n",
    "        answer=arr[index[0]:index[-1]+1]\n",
    "    \n",
    "    return answer\n",
    "\n",
    "\n"
   ]
  },
  {
   "cell_type": "code",
   "execution_count": 8,
   "metadata": {},
   "outputs": [],
   "source": [
    "# 수열과 구간 쿼리 2\n",
    "\n",
    "def solution(arr, queries):\n",
    "    \n",
    "    answer = []\n",
    "    for i in range(len(queries)):\n",
    "        \n",
    "        s=queries[i][0]\n",
    "        e=queries[i][1]\n",
    "        k=queries[i][2]\n",
    "        \n",
    "        result=[]\n",
    "        \n",
    "        for j in range(s,e+1):\n",
    "            if arr[j]>k:\n",
    "                result.append(arr[j])\n",
    "        if len(result)==0:\n",
    "            answer.append(-1)\n",
    "        else:\n",
    "            answer.append(min(result))\n",
    "    \n",
    "    return answer\n",
    "\n",
    "\n",
    "\n"
   ]
  },
  {
   "cell_type": "code",
   "execution_count": 9,
   "metadata": {},
   "outputs": [],
   "source": [
    "# 조건 문자열\n",
    "\n",
    "\n",
    "def solution(ineq, eq, n, m):\n",
    "    \n",
    "    if ineq=='<' and eq=='=':\n",
    "        answer=(n<=m)\n",
    "    elif ineq=='<' and eq=='!':\n",
    "        answer=(n<m)\n",
    "    elif ineq=='>' and eq=='=':\n",
    "        answer=(n>=m)\n",
    "    elif ineq=='>' and eq=='!':\n",
    "        answer=(n>m)\n",
    "        \n",
    "    if answer is True:\n",
    "        answer=1\n",
    "    else:\n",
    "        answer=0    \n",
    "\n",
    "    return answer"
   ]
  },
  {
   "cell_type": "code",
   "execution_count": 1,
   "metadata": {},
   "outputs": [
    {
     "data": {
      "text/plain": [
       "52"
      ]
     },
     "execution_count": 1,
     "metadata": {},
     "output_type": "execute_result"
    }
   ],
   "source": [
    "alpha='abcdefghijklmnopqrstuvwxyzABCDEFGHIJKLMNOPQRSTUVWXYZ'\n",
    "len(alpha)"
   ]
  },
  {
   "cell_type": "code",
   "execution_count": 4,
   "metadata": {},
   "outputs": [
    {
     "name": "stdout",
     "output_type": "stream",
     "text": [
      "[1, 0, 0, 0, 1, 0, 1, 0, 0, 0, 0, 0, 2, 0, 1, 0, 0, 3, 1, 0, 0, 0, 0, 0, 0, 0, 0, 0, 0, 0, 0, 0, 0, 0, 0, 0, 0, 0, 0, 0, 0, 1, 0, 0, 0, 0, 0, 0, 0, 0, 0, 0]\n"
     ]
    }
   ],
   "source": [
    "answer = [0]*52\n",
    "my_string=\"Programmers\"\n",
    "alpha='abcdefghijklmnopqrstuvwxyzABCDEFGHIJKLMNOPQRSTUVWXYZ'\n",
    "alpha=list(alpha)\n",
    "\n",
    "for i in range(len(my_string)):\n",
    "    for j in range(len(alpha)):\n",
    "        if my_string[i]==alpha[j]:\n",
    "            answer[j]+=1\n",
    "print(answer)"
   ]
  },
  {
   "cell_type": "code",
   "execution_count": 8,
   "metadata": {},
   "outputs": [
    {
     "data": {
      "text/plain": [
       "False"
      ]
     },
     "execution_count": 8,
     "metadata": {},
     "output_type": "execute_result"
    }
   ],
   "source": [
    "alpha='abcdefghijklmnopqrstuvwxyz'\n",
    "alpha=list(alpha)\n",
    "'A' in alpha\n"
   ]
  },
  {
   "cell_type": "code",
   "execution_count": 9,
   "metadata": {},
   "outputs": [],
   "source": [
    "# 문자 개수 세기\n",
    "\n",
    "def solution(my_string):\n",
    "    \n",
    "    answer = [0]*52\n",
    "    alpha='ABCDEFGHIJKLMNOPQRSTUVWXYZabcdefghijklmnopqrstuvwxyz'\n",
    "    \n",
    "    for i in range(len(my_string)):\n",
    "        for j in range(len(alpha)):\n",
    "            if my_string[i]==alpha[j]:\n",
    "                answer[j]+=1\n",
    "\n",
    "    return answer\n"
   ]
  },
  {
   "cell_type": "code",
   "execution_count": 33,
   "metadata": {},
   "outputs": [],
   "source": [
    "# 문자열 여러 번 뒤집기\n",
    "\n",
    "def solution(my_string, queries):\n",
    "    \n",
    "    for i in range(len(queries)):\n",
    "        answer=[]\n",
    "        for j in range(queries[i][0]):\n",
    "            answer.append(my_string[j])\n",
    "        for j in range(queries[i][1],queries[i][0]-1,-1):\n",
    "            answer.append(my_string[j])\n",
    "        for j in range(queries[i][1]+1,len(my_string)):\n",
    "            answer.append(my_string[j])\n",
    "        my_string=''.join(answer)\n",
    "        \n",
    "    answer=''.join(answer)\n",
    "\n",
    "    return answer\n"
   ]
  },
  {
   "cell_type": "code",
   "execution_count": 32,
   "metadata": {},
   "outputs": [
    {
     "name": "stdout",
     "output_type": "stream",
     "text": [
      "['p', 'r', 'o', 'g', 'r', 'a', 'm', 'm', 'e', 'r', 's']\n"
     ]
    }
   ],
   "source": [
    "my_string=\"rermgorpsam\"\n",
    "queries=[[2, 3], [0, 7], [5, 9], [6, 10]]\n",
    "for i in range(len(queries)):\n",
    "    answer=[]\n",
    "    for j in range(queries[i][0]):\n",
    "        answer.append(my_string[j])\n",
    "    for j in range(queries[i][1],queries[i][0]-1,-1):\n",
    "        answer.append(my_string[j])\n",
    "    for j in range(queries[i][1]+1,len(my_string)):\n",
    "        answer.append(my_string[j])\n",
    "    my_string=''.join(answer)\n",
    "    \n",
    "print(answer)"
   ]
  },
  {
   "cell_type": "code",
   "execution_count": null,
   "metadata": {},
   "outputs": [],
   "source": []
  },
  {
   "cell_type": "code",
   "execution_count": 41,
   "metadata": {},
   "outputs": [],
   "source": [
    "# 빈 배열에 추가, 삭제하기\n",
    "\n",
    "def solution(arr, flag):\n",
    "    \n",
    "    answer = []\n",
    "    for i in range(len(arr)):\n",
    "        if flag[i] is True:\n",
    "            answer.extend([arr[i]]*arr[i]*2)\n",
    "        else:\n",
    "            del answer[len(answer)-arr[i]:]\n",
    "            \n",
    "    return answer\n",
    "\n",
    "\n"
   ]
  },
  {
   "cell_type": "code",
   "execution_count": null,
   "metadata": {},
   "outputs": [],
   "source": []
  },
  {
   "cell_type": "code",
   "execution_count": 42,
   "metadata": {},
   "outputs": [],
   "source": [
    "# 문자열이 몇 번 등장하는지 세기\n",
    "\n",
    "def solution(myString, pat):\n",
    "    \n",
    "    answer = 0\n",
    "    for i in range(len(myString)):\n",
    "        result=myString[i:i+len(pat)]\n",
    "        if pat==result:\n",
    "            answer+=1\n",
    "    \n",
    "    return answer\n",
    "\n"
   ]
  },
  {
   "cell_type": "code",
   "execution_count": null,
   "metadata": {},
   "outputs": [],
   "source": [
    "\n",
    "\n"
   ]
  },
  {
   "cell_type": "code",
   "execution_count": 1,
   "metadata": {},
   "outputs": [],
   "source": [
    "# 이차원 배열 대각선 순회하기\n",
    "\n",
    "def solution(board, k):\n",
    "    \n",
    "    answer = 0\n",
    "    for i in range(len(board)):\n",
    "        for j in range(len(board[i])):\n",
    "            if i+j<=k:\n",
    "                answer+=board[i][j]\n",
    "\n",
    "    return answer"
   ]
  },
  {
   "cell_type": "code",
   "execution_count": 2,
   "metadata": {},
   "outputs": [],
   "source": [
    "# 특정 문자열로 끝나는 가장 긴 부분 문자열 찾기\n",
    "\n",
    "def solution(myString, pat):\n",
    "    \n",
    "    for i in range(len(myString)):\n",
    "        if myString[i:i+len(pat)]==pat:\n",
    "            answer=myString[:i+len(pat)]\n",
    "    \n",
    "    return answer\n",
    "\n"
   ]
  },
  {
   "cell_type": "code",
   "execution_count": 18,
   "metadata": {},
   "outputs": [],
   "source": [
    "# 세 개의 구분자\n",
    "\n",
    "def solution(myStr):\n",
    "    \n",
    "    myStr=list(myStr)\n",
    "    for i in range(len(myStr)):\n",
    "        if myStr[i]=='a' or myStr[i]=='b' or myStr[i]=='c':\n",
    "            myStr[i]=' '\n",
    "    answer=''.join(myStr)   \n",
    "    answer=answer.split()\n",
    "    \n",
    "    if len(answer)==0:\n",
    "        answer=['EMPTY']\n",
    "    \n",
    "    return answer\n"
   ]
  },
  {
   "cell_type": "code",
   "execution_count": 19,
   "metadata": {},
   "outputs": [
    {
     "name": "stdout",
     "output_type": "stream",
     "text": [
      "['b', 'a', 'c', 'o', 'n', 'l', 'e', 't', 't', 'u', 'c', 'e', 't', 'o', 'm', 'a', 't', 'o']\n",
      "[' ', ' ', ' ', 'o', 'n', 'l', 'e', 't', 't', 'u', ' ', 'e', 't', 'o', 'm', ' ', 't', 'o']\n",
      "   onlettu etom to\n",
      "['onlettu', 'etom', 'to']\n"
     ]
    }
   ],
   "source": [
    "myStr=\"baconlettucetomato\"\n",
    "\n",
    "myStr=list(myStr)\n",
    "print(myStr)\n",
    "for i in range(len(myStr)):\n",
    "    if myStr[i]=='a' or myStr[i]=='b' or myStr[i]=='c':\n",
    "        myStr[i]=' '\n",
    "        \n",
    "print(myStr)\n",
    "\n",
    "answer=''.join(myStr)\n",
    "print(answer)\n",
    "answer=answer.split()\n",
    "print(answer)"
   ]
  },
  {
   "cell_type": "code",
   "execution_count": null,
   "metadata": {},
   "outputs": [],
   "source": []
  },
  {
   "cell_type": "code",
   "execution_count": 21,
   "metadata": {},
   "outputs": [],
   "source": [
    "# 배열의 길이를 2의 거듭제곱으로 만들기\n",
    "\n",
    "def solution(arr):\n",
    "     \n",
    "    answer = arr\n",
    "    \n",
    "    i=0\n",
    "    while len(answer)>2**(i):\n",
    "        i+=1\n",
    "    \n",
    "    if len(answer)<2**i:\n",
    "        answer.extend([0]*(2**i-len(answer)))\n",
    "    \n",
    "    return answer\n",
    "\n"
   ]
  },
  {
   "cell_type": "code",
   "execution_count": 22,
   "metadata": {},
   "outputs": [
    {
     "name": "stdout",
     "output_type": "stream",
     "text": [
      "[1, 2, 3]\n"
     ]
    }
   ],
   "source": [
    "a={1,2,3}\n",
    "a=list(a)\n",
    "print(a)"
   ]
  },
  {
   "cell_type": "code",
   "execution_count": 23,
   "metadata": {},
   "outputs": [],
   "source": [
    "# 문자열 묶기\n",
    "\n",
    "def solution(strArr):\n",
    "\n",
    "    answer1= [] # 리스트별 길이\n",
    "    answer2= [] # 리스트 길이별 갯수\n",
    "    \n",
    "    for i in range(len(strArr)):\n",
    "        if len(strArr[i]) not in answer1:\n",
    "            answer1.append(len(strArr[i]))\n",
    "    answer2=[0]*len(answer1)\n",
    "    \n",
    "    for i in range(len(strArr)):\n",
    "        for j in range(len(answer1)):\n",
    "            if len(strArr[i])==answer1[j]:\n",
    "                answer2[j]+=1\n",
    "    answer=max(answer2)\n",
    "    \n",
    "    return answer\n",
    "\n"
   ]
  },
  {
   "cell_type": "code",
   "execution_count": 24,
   "metadata": {},
   "outputs": [],
   "source": [
    "# 커피 심부름\n",
    "\n",
    "def solution(order):\n",
    "    \n",
    "    answer=0\n",
    "    \n",
    "    americano=[\"iceamericano\", \"americanoice\",\"hotamericano\", \"americanohot\",\"americano\",\"anything\"]\n",
    "    latte=[\"icecafelatte\", \"cafelatteice\",\"hotcafelatte\", \"cafelattehot\",\"cafelatte\"]\n",
    "    \n",
    "    for i in range(len(order)):\n",
    "        if order[i] in americano:\n",
    "            answer+=4500\n",
    "        else:\n",
    "            answer+=5000\n",
    "\n",
    "    return answer\n",
    "\n"
   ]
  },
  {
   "cell_type": "code",
   "execution_count": 11,
   "metadata": {},
   "outputs": [],
   "source": [
    "# 조건에 맞게 수열 변환하기 2\n",
    "\n",
    "\n",
    "def solution(arr):\n",
    "    \n",
    "    count=0\n",
    "    prev=arr\n",
    "    \n",
    "    while True:\n",
    "        change=[]\n",
    "        for i in range(len(prev)):\n",
    "            if prev[i]>=50 and prev[i]%2==0:\n",
    "                change.append(prev[i]/2)\n",
    "            elif prev[i]<50 and prev[i]%2!=0:\n",
    "                change.append(prev[i]*2+1)\n",
    "            else:\n",
    "                change.append(prev[i])\n",
    "        \n",
    "        if prev==change:\n",
    "            answer=count\n",
    "            break\n",
    "        else:\n",
    "            count+=1\n",
    "            prev=change\n",
    "    \n",
    "    return answer\n",
    "\n"
   ]
  },
  {
   "cell_type": "code",
   "execution_count": null,
   "metadata": {},
   "outputs": [],
   "source": []
  },
  {
   "cell_type": "code",
   "execution_count": 12,
   "metadata": {},
   "outputs": [],
   "source": [
    "# 두 수의 합\n",
    "\n",
    "def solution(a, b):\n",
    "    \n",
    "    answer = str(int(a)+int(b))\n",
    "    \n",
    "    return answer\n",
    "\n",
    "\n",
    "\n"
   ]
  },
  {
   "cell_type": "code",
   "execution_count": 15,
   "metadata": {},
   "outputs": [],
   "source": [
    "# 왼쪽 오른쪽\n",
    "\n",
    "def solution(str_list):\n",
    "    \n",
    "    answer=[]\n",
    "\n",
    "    for i in range(len(str_list)):\n",
    "        if str_list[i]=='l':\n",
    "            answer=str_list[:i]\n",
    "            break\n",
    "        elif str_list[i]=='r':\n",
    "            answer=str_list[i+1:]\n",
    "            break\n",
    "            \n",
    "    return answer\n",
    "\n"
   ]
  },
  {
   "cell_type": "code",
   "execution_count": 16,
   "metadata": {},
   "outputs": [
    {
     "name": "stdout",
     "output_type": "stream",
     "text": [
      "a = 4\n",
      "b = 5\n"
     ]
    }
   ],
   "source": [
    "# a와 b 출력하기\n",
    "\n",
    "a, b = map(int, input().strip().split(' '))\n",
    "\n",
    "print('a =',a)\n",
    "print('b =',b)\n",
    "\n",
    "\n"
   ]
  },
  {
   "cell_type": "code",
   "execution_count": 17,
   "metadata": {},
   "outputs": [],
   "source": [
    "# 문자열 겹쳐쓰기\n",
    "\n",
    "def solution(my_string, overwrite_string, s):\n",
    "    \n",
    "    answer = ''\n",
    "    answer+=my_string[:s]\n",
    "    answer+=overwrite_string\n",
    "    answer+=my_string[len(answer):]\n",
    "    \n",
    "    return answer\n",
    "\n",
    "\n"
   ]
  },
  {
   "cell_type": "code",
   "execution_count": 18,
   "metadata": {},
   "outputs": [],
   "source": [
    "# 배열 만들기 6\n",
    "\n",
    "def solution(arr):\n",
    "    \n",
    "    answer = []\n",
    "    i=0\n",
    "    \n",
    "    while i<len(arr):\n",
    "    \n",
    "        if len(answer)==0:\n",
    "            answer.append(arr[i])\n",
    "            i+=1\n",
    "        elif len(answer)!=0 and answer[-1]==arr[i]:\n",
    "            answer=answer[:len(answer)-1]\n",
    "            i+=1\n",
    "        elif len(answer)!=0 and answer[-1]!=arr[i]:\n",
    "            answer.append(arr[i])\n",
    "            i+=1\n",
    "        \n",
    "    if len(answer)==0:\n",
    "        answer=[-1]\n",
    "    \n",
    "    return answer\n",
    "\n",
    "\n"
   ]
  },
  {
   "cell_type": "code",
   "execution_count": null,
   "metadata": {},
   "outputs": [],
   "source": []
  },
  {
   "cell_type": "code",
   "execution_count": 24,
   "metadata": {},
   "outputs": [],
   "source": [
    "# 무작위로 K개의 수 뽑기\n",
    "\n",
    "def solution(arr, k):\n",
    "    \n",
    "    answer = []\n",
    "    new_arr=[]\n",
    "    #arr=list(set(arr)) #set은 순서를 담지 않음\n",
    "    \n",
    "    for i in arr:\n",
    "        if i not in new_arr:\n",
    "            new_arr.append(i)\n",
    "    \n",
    "    \n",
    "    if len(new_arr)<=k:\n",
    "        answer.extend(new_arr)\n",
    "    else:\n",
    "        answer.extend(new_arr[:k])\n",
    "    \n",
    "    if len(answer)<k:\n",
    "        answer.extend([-1]*(k-len(answer)))\n",
    "\n",
    "    return answer\n"
   ]
  },
  {
   "cell_type": "code",
   "execution_count": null,
   "metadata": {},
   "outputs": [],
   "source": []
  },
  {
   "cell_type": "code",
   "execution_count": 1,
   "metadata": {},
   "outputs": [],
   "source": [
    "# 정사각형으로 만들기\n",
    "\n",
    "def solution(arr):\n",
    "    \n",
    "    while len(arr) != len(arr[0]):\n",
    "    \n",
    "        if len(arr)>len(arr[0]):\n",
    "            for i in range(len(arr)):\n",
    "                arr[i].append(0)\n",
    "        elif len(arr)<len(arr[0]):\n",
    "            arr.append([0]*len(arr[0]))\n",
    "    \n",
    "    answer = arr\n",
    "    \n",
    "    return answer\n"
   ]
  },
  {
   "cell_type": "code",
   "execution_count": 3,
   "metadata": {},
   "outputs": [
    {
     "name": "stdout",
     "output_type": "stream",
     "text": [
      "['..xxxx......xxxx..', '..xxxx......xxxx..', 'xx....xx..xx....xx', 'xx....xx..xx....xx', 'xx......xx......xx', 'xx......xx......xx', '..xx..........xx..', '..xx..........xx..', '....xx......xx....', '....xx......xx....', '......xx..xx......', '......xx..xx......', '........xx........', '........xx........']\n"
     ]
    }
   ],
   "source": [
    "picture=[\".xx...xx.\", \"x..x.x..x\", \"x...x...x\", \".x.....x.\", \"..x...x..\", \"...x.x...\", \"....x....\"]\n",
    "k=2\n",
    "\n",
    "answer=[]\n",
    "\n",
    "for i in range(len(picture)):\n",
    "    answer1=''\n",
    "    for j in range(len(picture[i])):        \n",
    "        answer1+=(picture[i][j])*k\n",
    "    answer.extend([answer1]*k)\n",
    "    \n",
    "print(answer)"
   ]
  },
  {
   "cell_type": "code",
   "execution_count": 1,
   "metadata": {},
   "outputs": [],
   "source": [
    "# 그림확대\n",
    "\n",
    "def solution(picture, k):\n",
    "    \n",
    "    answer=[]\n",
    "\n",
    "    for i in range(len(picture)):\n",
    "        answer1=''\n",
    "        for j in range(len(picture[i])):        \n",
    "            answer1+=(picture[i][j])*k\n",
    "        answer.extend([answer1]*k)\n",
    "        \n",
    "    return answer\n"
   ]
  },
  {
   "cell_type": "code",
   "execution_count": 1,
   "metadata": {},
   "outputs": [
    {
     "name": "stdout",
     "output_type": "stream",
     "text": [
      "aBcDe\n"
     ]
    }
   ],
   "source": [
    "# 대소문자 바꿔서 출력하기\n",
    "\n",
    "str = input()\n",
    "answer=[]\n",
    "\n",
    "for i in range(len(str)):\n",
    "    \n",
    "    if str[i].isupper()==True:\n",
    "        answer.append(str[i].lower())\n",
    "    else:\n",
    "        answer.append(str[i].upper())\n",
    "print(''.join(answer))\n",
    "    \n",
    "\n"
   ]
  },
  {
   "cell_type": "code",
   "execution_count": 2,
   "metadata": {},
   "outputs": [],
   "source": [
    "# [PCCE 기출문제] 6번 / 가채점\n",
    "\n",
    "def solution(numbers, our_score, score_list):\n",
    "    answer = []\n",
    "    for i in range(len(numbers)):\n",
    "        if our_score[i] == score_list[numbers[i]-1]:\n",
    "            answer.append(\"Same\")\n",
    "        else:\n",
    "            answer.append(\"Different\")\n",
    "    \n",
    "    return answer\n",
    "\n"
   ]
  },
  {
   "cell_type": "code",
   "execution_count": null,
   "metadata": {},
   "outputs": [],
   "source": [
    "# 전국 대회 선발 고사\n",
    "\n",
    "def solution(rank, attendance):\n",
    "    answer = 0\n",
    "    return answer\n",
    "\n",
    "\n",
    "\n"
   ]
  },
  {
   "cell_type": "code",
   "execution_count": 8,
   "metadata": {},
   "outputs": [
    {
     "name": "stdout",
     "output_type": "stream",
     "text": [
      "[2, 4, 3, 1]\n",
      "20403\n"
     ]
    }
   ],
   "source": [
    "rank=[3, 7, 2, 5, 4, 6, 1]\n",
    "rank2=sorted(rank)\n",
    "attendance=[1,0,0,0,0,1,1]\n",
    "numbers=[]\n",
    "numbers2=[]\n",
    "\n",
    "for i in range(len(rank)):\n",
    "    numbers.append(i)\n",
    "\n",
    "for i in range(len(rank2)):\n",
    "    for j in range(len(rank)):\n",
    "        if rank2[i]==rank[j] and attendance[j]==0:\n",
    "            numbers2.append(numbers[j])\n",
    "    \n",
    "print(numbers2)\n",
    "answer=numbers2[0]*10000+numbers2[1]*100+numbers2[2]\n",
    "print(answer)\n"
   ]
  },
  {
   "cell_type": "code",
   "execution_count": 3,
   "metadata": {},
   "outputs": [],
   "source": [
    "# 배열 만들기 2\n",
    "\n",
    "def solution(l, r):\n",
    "    \n",
    "    answer = []\n",
    "    \n",
    "    for number in range(l,r+1):\n",
    "        if number %5==0 :\n",
    "            number2=str(number)\n",
    "            is_zero_or_five=True\n",
    "            for j in range(len(number2)):\n",
    "                if number2[j] !=0 or number2[j] !=5:\n",
    "                    is_zero_or_five=False\n",
    "        if is_zero_or_five:\n",
    "            answer.append(number)\n",
    "    \n",
    "    if len(answer)==0:\n",
    "        answer.append(-1)\n",
    "                    \n",
    "    return answer\n"
   ]
  },
  {
   "cell_type": "code",
   "execution_count": 19,
   "metadata": {},
   "outputs": [
    {
     "name": "stdout",
     "output_type": "stream",
     "text": [
      "[5, 10, 15, 20, 25, 30, 35, 40, 45, 50, 55, 60, 65, 70, 75, 80, 85, 90, 95, 100, 105, 110, 115, 120, 125, 130, 135, 140, 145, 150, 155, 160, 165, 170, 175, 180, 185, 190, 195, 200, 205, 210, 215, 220, 225, 230, 235, 240, 245, 250, 255, 260, 265, 270, 275, 280, 285, 290, 295, 300, 305, 310, 315, 320, 325, 330, 335, 340, 345, 350, 355, 360, 365, 370, 375, 380, 385, 390, 395, 400, 405, 410, 415, 420, 425, 430, 435, 440, 445, 450, 455, 460, 465, 470, 475, 480, 485, 490, 495, 500, 505, 510, 515, 520, 525, 530, 535, 540, 545, 550, 555]\n"
     ]
    }
   ],
   "source": [
    "l=5\n",
    "r=555\n",
    "\n",
    "answer = []\n",
    "is_zero_or_five=False\n",
    "\n",
    "for number in range(l,r+1):\n",
    "    if number %5 == 0 :\n",
    "        number2=str(number)\n",
    "        for j in range(len(number2)):\n",
    "            if number2[j]=='0' or '5': \n",
    "                is_zero_or_five=True\n",
    "            else:\n",
    "                is_zero_or_five=False\n",
    "                continue\n",
    "    if is_zero_or_five:\n",
    "        answer.append(number)\n",
    "    is_zero_or_five=False\n",
    "\n",
    "if len(answer)==0:\n",
    "    answer.append(-1)\n",
    "    \n",
    "print(answer)"
   ]
  },
  {
   "cell_type": "code",
   "execution_count": 1,
   "metadata": {},
   "outputs": [],
   "source": [
    "# 코드 처리하기\n",
    "\n",
    "def solution(code):\n",
    "    \n",
    "    answer = ''\n",
    "    mode=0\n",
    "    for i in range(len(code)):\n",
    "        if mode==0:\n",
    "            if code[i] !=1 and i%2==0:\n",
    "                answer+=code[i]\n",
    "            elif code[i]==1:\n",
    "                mode=1\n",
    "        elif mode==1:\n",
    "            if code[i] != 1 and i%2 != 0:\n",
    "                answer+=code[i]\n",
    "            elif code[i] ==1:\n",
    "                mode=0\n",
    "                \n",
    "    if len(answer)==0:\n",
    "        answer='EMPTY'\n",
    "        \n",
    "    return answer\n",
    "\n"
   ]
  },
  {
   "cell_type": "code",
   "execution_count": 1,
   "metadata": {},
   "outputs": [],
   "source": [
    "# 배열 조각하기\n",
    "\n",
    "def solution(arr, query):\n",
    "    answer = arr\n",
    "    \n",
    "    for i in range(len(query)):\n",
    "        if i %2==0:\n",
    "            answer=answer[:query[i]+1]\n",
    "        elif i%2 !=0:\n",
    "            answer=answer[query[i]:]\n",
    "        \n",
    "    \n",
    "    return answer\n"
   ]
  },
  {
   "cell_type": "code",
   "execution_count": 3,
   "metadata": {},
   "outputs": [],
   "source": [
    "# 옹알이 (2)\n",
    "\n",
    "def solution(babbling):\n",
    "    \n",
    "    answer=0\n",
    "\n",
    "    for i in range(len(babbling)):\n",
    "        babbling[i]=babbling[i].replace('ayaaya',\"1\")\n",
    "        babbling[i]=babbling[i].replace('yeye',\"1\")\n",
    "        babbling[i]=babbling[i].replace('woowoo',\"1\")\n",
    "        babbling[i]=babbling[i].replace('mama',\"1\")\n",
    "        \n",
    "        babbling[i]=babbling[i].replace('aya',\" \")\n",
    "        babbling[i]=babbling[i].replace('ye',\" \")\n",
    "        babbling[i]=babbling[i].replace('woo',\" \")\n",
    "        babbling[i]=babbling[i].replace('ma',\" \")\n",
    "        \n",
    "        babbling[i]=babbling[i].replace(' ', '')\n",
    "        \n",
    "        if len(babbling[i])==0:\n",
    "            answer+=1\n",
    "    \n",
    "    \n",
    "    return answer\n",
    "\n",
    "\n"
   ]
  },
  {
   "cell_type": "code",
   "execution_count": null,
   "metadata": {},
   "outputs": [],
   "source": [
    "# 안전지대 -- 해결못함 bfs 문제\n",
    "\n",
    "def solution(board):\n",
    "    answer = 0\n",
    "    return answer\n",
    "\n",
    "\n"
   ]
  },
  {
   "cell_type": "code",
   "execution_count": null,
   "metadata": {},
   "outputs": [],
   "source": [
    "board=[[0, 0, 0, 0, 0], [0, 0, 0, 0, 0], [0, 0, 0, 0, 0], [0, 0, 1, 0, 0], [0, 0, 0, 0, 0]]\n",
    "n=len(board)\n",
    "for i in range(n):\n",
    "    for j in range(n):\n",
    "        if board[i][j]==1:\n",
    "            if 0<=i<=n-1 and 0<=j<=n-1:\n",
    "                if board[i-1][j-1]!=1:\n",
    "                    board[i-1][j-1]+=100\n",
    "                if board[i-1][j]!=1:\n",
    "                    board[i-1][j]+=100\n",
    "                if board[i-1][j+1]!=1:\n",
    "                    board[i-1][j+1]+=100\n",
    "                if board\n",
    "                \n",
    "    \n",
    "            \n",
    "            # i가 0이상 n-1이하 \n",
    "            # j가 0이상 n-1이하"
   ]
  },
  {
   "cell_type": "code",
   "execution_count": 2,
   "metadata": {},
   "outputs": [],
   "source": [
    "# 다음 큰 숫자\n",
    "\n",
    "\n",
    "def solution(n):\n",
    "    \n",
    "    bin_n=bin(n)\n",
    "    count=0\n",
    "    for i in range(len(bin_n)):\n",
    "        if bin_n[i]=='1':\n",
    "            count+=1\n",
    "    \n",
    "    while True:\n",
    "\n",
    "        answer=n+1\n",
    "        bin_answer=bin(answer)\n",
    "        \n",
    "        count_answer=0\n",
    "        for i in range(len(bin_answer)):\n",
    "            if bin_answer[i]=='1':\n",
    "                count_answer+=1\n",
    "        \n",
    "        if count_answer==count:\n",
    "            break\n",
    "        else:\n",
    "            n+=1\n",
    "            \n",
    "    return answer\n",
    "\n",
    "\n"
   ]
  },
  {
   "cell_type": "code",
   "execution_count": 1,
   "metadata": {},
   "outputs": [
    {
     "data": {
      "text/plain": [
       "'0b1001110'"
      ]
     },
     "execution_count": 1,
     "metadata": {},
     "output_type": "execute_result"
    }
   ],
   "source": [
    "#십진수를 이진수로\n",
    "\n",
    "bin(78)"
   ]
  },
  {
   "cell_type": "code",
   "execution_count": null,
   "metadata": {},
   "outputs": [],
   "source": [
    "# 피보나치 수 --> 시간초과\n",
    "\n",
    "\n",
    "def solution(n):\n",
    "\n",
    "    if n==0:\n",
    "        answer=0\n",
    "    elif n==1:\n",
    "        answer=1\n",
    "    elif n>=2:\n",
    "        answer=solution(n-1)+solution(n-2)\n",
    "\n",
    "    return answer\n",
    "\n"
   ]
  },
  {
   "cell_type": "code",
   "execution_count": 13,
   "metadata": {},
   "outputs": [],
   "source": [
    "# 피보나치 수 \n",
    "\n",
    "\n",
    "def solution(n):\n",
    "    a=[0]*(n+1)\n",
    "    a[0]=0\n",
    "    a[1]=1\n",
    "\n",
    "    for i in range(2,n+1):\n",
    "        a[i]=a[i-1]+a[i-2]\n",
    "\n",
    "    answer=a[n]%1234567\n",
    "\n",
    "    return answer"
   ]
  },
  {
   "cell_type": "code",
   "execution_count": 3,
   "metadata": {},
   "outputs": [],
   "source": [
    "# 짝지어 제거하기\n",
    "\n",
    "def solution(s):\n",
    "    \n",
    "    stack=[]\n",
    "    \n",
    "    for i in range(len(s)):\n",
    "        if len(stack)==0:\n",
    "            stack.append(s[i])\n",
    "        elif stack[-1]==s[i]:\n",
    "            stack.pop() \n",
    "        else:\n",
    "            stack.append(s[i])\n",
    "                      \n",
    "    if len(stack)==0:\n",
    "        answer=1\n",
    "    else:\n",
    "        answer=0\n",
    "\n",
    "    return answer\n",
    "\n",
    "\n"
   ]
  },
  {
   "cell_type": "code",
   "execution_count": 2,
   "metadata": {},
   "outputs": [
    {
     "name": "stdout",
     "output_type": "stream",
     "text": [
      "0\n"
     ]
    }
   ],
   "source": [
    "s='cdcd'\n",
    "stack=[]\n",
    "\n",
    "for i in range(len(s)):\n",
    "    if len(stack)==0:\n",
    "        stack.append(s[i])\n",
    "    elif stack[-1]==s[i]:\n",
    "        stack.pop() \n",
    "    else:\n",
    "        stack.append(s[i])\n",
    "if len(stack)==0:\n",
    "    answer=1\n",
    "else:\n",
    "    answer=0\n",
    "    \n",
    "print(answer)\n",
    "\n",
    "\n"
   ]
  },
  {
   "cell_type": "code",
   "execution_count": 1,
   "metadata": {},
   "outputs": [],
   "source": [
    "# 완주하지 못한 선수 --> 실패\n",
    "def solution(participant, completion):\n",
    "    \n",
    "    answer = ''\n",
    "\n",
    "    for i in range(len(participant)):\n",
    "        if participant[i] not in completion:\n",
    "            answer+=participant[i]\n",
    "    \n",
    "    return answer"
   ]
  },
  {
   "cell_type": "code",
   "execution_count": 17,
   "metadata": {},
   "outputs": [],
   "source": [
    "# 완주하지 못한 선수\n",
    "def solution(participant, completion):\n",
    "    \n",
    "    participant=sorted(participant)\n",
    "    completion=sorted(completion)\n",
    "\n",
    "    answer=''\n",
    "    for i in range(len(completion)):\n",
    "        if completion[i]!=participant[i]:\n",
    "            return participant[i]\n",
    "            #print(answer)\n",
    "\n",
    "    return participant[-1]"
   ]
  },
  {
   "cell_type": "code",
   "execution_count": 7,
   "metadata": {},
   "outputs": [],
   "source": [
    "# 배열 만들기 2\n",
    "\n",
    "def solution(l,r):\n",
    "    \n",
    "    answer=[]\n",
    "      \n",
    "    for i in range(l,r+1):\n",
    "        if i %5==0:\n",
    "            str_i=str(i)\n",
    "            for j in range(len(str_i)):\n",
    "                if str_i[j]=='5' or str_i[j]=='0':\n",
    "                    if j==len(str_i)-1: #마지막 숫자가 조건을 만족하면 answer에 추가\n",
    "                        answer.append(i)\n",
    "                    else:\n",
    "                        continue\n",
    "                else:\n",
    "                    break #5나 0인 숫자가 있으면 for문 밖으로 나감\n",
    "\n",
    "    if len(answer)==0:\n",
    "        answer.append(-1)\n",
    "\n",
    "    return answer\n"
   ]
  },
  {
   "cell_type": "code",
   "execution_count": 6,
   "metadata": {},
   "outputs": [
    {
     "name": "stdout",
     "output_type": "stream",
     "text": [
      "[5, 50, 55, 500, 505, 550, 555]\n"
     ]
    }
   ],
   "source": [
    "# 배열 만들기 2\n",
    "\n",
    "answer=[]\n",
    "l=5\n",
    "r=555\n",
    "\n",
    "for i in range(l,r+1):\n",
    "    if i %5==0:\n",
    "        str_i=str(i)\n",
    "        \n",
    "        for j in range(len(str_i)):\n",
    "            if str_i[j]=='5' or str_i[j]=='0':\n",
    "                if j==len(str_i)-1: #마지막 숫자가 조건을 만족하면 answer에 추가\n",
    "                    answer.append(i)\n",
    "                else:\n",
    "                    continue\n",
    "            else:\n",
    "                break #5나 0인 숫자가 있으면 for문 밖으로 나감\n",
    "\n",
    "if len(answer)==0:\n",
    "    answer.append(-1)\n",
    "   \n",
    "print(answer)"
   ]
  },
  {
   "cell_type": "code",
   "execution_count": null,
   "metadata": {},
   "outputs": [],
   "source": []
  },
  {
   "cell_type": "code",
   "execution_count": 16,
   "metadata": {},
   "outputs": [],
   "source": [
    "# 다항식 더하기\n",
    "\n",
    "def solution(polynomial):\n",
    "    \n",
    "    p=polynomial.replace(' ','') #공백제거\n",
    "    p=p.split('+') #'+' 기준으로 나누기\n",
    "\n",
    "    x=[]  #x항\n",
    "    y=[]  #상수항\n",
    "    \n",
    "    for i in p:\n",
    "        if 'x' in i:\n",
    "            if i=='x':  #x항이 x이면 1x이므로 \n",
    "                x.append(1)\n",
    "            else:\n",
    "                x.append(int(i[:len(i)-1]))\n",
    "        else:\n",
    "            y.append(int(i))\n",
    "    \n",
    "    x=sum(x)\n",
    "    y=sum(y)\n",
    "    \n",
    "    if x==1: #1x일경우\n",
    "        x=''\n",
    "\n",
    "    #x나 y가 0인경우 \n",
    "    if x==0:\n",
    "        answer=str(y)\n",
    "    elif y==0:\n",
    "        answer='{}x'.format(x)\n",
    "    else:\n",
    "        answer='{}x + {}'.format(x,y)\n",
    "\n",
    "    return answer"
   ]
  },
  {
   "cell_type": "code",
   "execution_count": 15,
   "metadata": {},
   "outputs": [
    {
     "name": "stdout",
     "output_type": "stream",
     "text": [
      "[1, 1, 1]\n",
      "[]\n",
      "3x\n"
     ]
    }
   ],
   "source": [
    "# 다항식 더하기\n",
    "\n",
    "polynomial=\"x + x + x\"\n",
    "p=polynomial.replace(' ','') #공백제거\n",
    "p=p.split('+') #'+' 기준으로 나누기\n",
    "\n",
    "x=[]  #x항\n",
    "y=[]  #상수항\n",
    "\n",
    "\n",
    "for i in p:\n",
    "    if 'x' in i:\n",
    "        if i=='x':  #x항이 x이면 1x이므로 \n",
    "            x.append(1)\n",
    "        else:\n",
    "            x.append(int(i[:len(i)-1]))\n",
    "    else:\n",
    "        y.append(int(i))\n",
    "\n",
    "print(x)\n",
    "print(y)\n",
    "\n",
    "x=sum(x)\n",
    "y=sum(y)\n",
    "\n",
    "if x==1: #1x일경우\n",
    "    x=''\n",
    "\n",
    "\n",
    "#x나 y가 0인경우 \n",
    "if x==0:\n",
    "    answer=str(y)\n",
    "elif y==0:\n",
    "    answer='{}x'.format(x)\n",
    "else:\n",
    "    answer='{}x + {}'.format(x,y)\n",
    "\n",
    "print(answer)\n"
   ]
  },
  {
   "cell_type": "code",
   "execution_count": null,
   "metadata": {},
   "outputs": [],
   "source": []
  },
  {
   "cell_type": "code",
   "execution_count": 25,
   "metadata": {},
   "outputs": [],
   "source": [
    "# 덧칠하기 --> 시간초과 \n",
    "\n",
    "def solution(n,m,section):\n",
    "    \n",
    "    carpet=[0]*n\n",
    "    for i in section: #칠해야하는 부분만 1로 변경\n",
    "        carpet[i-1]+=1\n",
    "\n",
    "    count=0\n",
    "    while 1 in carpet:\n",
    "        x=carpet.index(1) #1이 있는 부분 인덱스 \n",
    "        if x+m<n:\n",
    "            for i in range(x,x+m):\n",
    "                carpet[i]=0\n",
    "        else:\n",
    "            for i in range(x,n):\n",
    "                carpet[i]=0 \n",
    "        count+=1 #while 문 돌릴때마다 count+1\n",
    "    \n",
    "    return count\n",
    "    "
   ]
  },
  {
   "cell_type": "code",
   "execution_count": null,
   "metadata": {},
   "outputs": [],
   "source": []
  },
  {
   "cell_type": "code",
   "execution_count": 24,
   "metadata": {},
   "outputs": [
    {
     "name": "stdout",
     "output_type": "stream",
     "text": [
      "1\n"
     ]
    }
   ],
   "source": [
    "# 덧칠하기 - 시간초과\n",
    "\n",
    "n=5\n",
    "m=4\n",
    "section=[1,3]\n",
    "carpet=[0]*n\n",
    "\n",
    "for i in section: #칠해야하는 부분만 1로 변경\n",
    "    carpet[i-1]+=1\n",
    "\n",
    "count=0\n",
    "while 1 in carpet:\n",
    "    x=carpet.index(1) #1이 있는 부분 인덱스 \n",
    "    if x+m<n:\n",
    "        for i in range(x,x+m):\n",
    "            carpet[i]=0\n",
    "    else:\n",
    "        for i in range(x,n):\n",
    "            carpet[i]=0 \n",
    "    count+=1 #while 문 돌릴때마다 count+1\n",
    "\n",
    "\n",
    "print(count)"
   ]
  },
  {
   "cell_type": "code",
   "execution_count": 29,
   "metadata": {},
   "outputs": [],
   "source": [
    "# 덧칠하기 -- for문 줄여서 -- 시간초과\n",
    "\n",
    "def solution(n,m,section):\n",
    "    \n",
    "    carpet=[0]*n\n",
    "    carpet_m=[0]*m\n",
    "\n",
    "    for i in section: #칠해야하는 부분만 1로 변경\n",
    "        carpet[i-1]+=1\n",
    "\n",
    "    count=0\n",
    "    while 1 in carpet:\n",
    "        x=carpet.index(1) #1이 있는 부분 인덱스 \n",
    "        if x+m<n:\n",
    "            carpet[x:x+m]=carpet_m\n",
    "        else:\n",
    "            carpet[x:]=carpet_m[:len(carpet[x:])]\n",
    "\n",
    "        count+=1 #while 문 돌릴때마다 count+1\n",
    "    \n",
    "    return count"
   ]
  },
  {
   "cell_type": "code",
   "execution_count": 1,
   "metadata": {},
   "outputs": [
    {
     "name": "stdout",
     "output_type": "stream",
     "text": [
      "1\n"
     ]
    }
   ],
   "source": [
    "# 덧칠하기 -- for문 줄인거\n",
    "\n",
    "n=5\n",
    "m=4\n",
    "section=[1,3]\n",
    "carpet=[0]*n\n",
    "carpet_m=[0]*m\n",
    "\n",
    "for i in section: #칠해야하는 부분만 1로 변경\n",
    "    carpet[i-1]+=1\n",
    "\n",
    "count=0\n",
    "while 1 in carpet:\n",
    "    x=carpet.index(1) #1이 있는 부분 인덱스 \n",
    "    if x+m<n:\n",
    "        carpet[x:x+m]=carpet_m\n",
    "    else:\n",
    "        carpet[x:]=carpet_m[:len(carpet[x:])]\n",
    "            \n",
    "    count+=1 #while 문 돌릴때마다 count+1\n",
    "\n",
    "print(count)"
   ]
  },
  {
   "cell_type": "code",
   "execution_count": 5,
   "metadata": {},
   "outputs": [],
   "source": [
    "# 덧칠하기 -- 다른 버전 ( 참고한 것 )\n",
    "\n",
    "def solution(n,m,section):\n",
    "    n_painted=0\n",
    "    count=0\n",
    "    \n",
    "    for i in section:\n",
    "        if i > n_painted:\n",
    "            n_painted = i+m-1\n",
    "            count+=1\n",
    "            \n",
    "    return count"
   ]
  },
  {
   "cell_type": "code",
   "execution_count": 6,
   "metadata": {},
   "outputs": [
    {
     "name": "stdout",
     "output_type": "stream",
     "text": [
      "2\n"
     ]
    }
   ],
   "source": [
    "# 덧칠하기\n",
    "\n",
    "n=8\n",
    "m=4\n",
    "section=[2,3,6]\n",
    "\n",
    "n_painted=0\n",
    "count=0\n",
    "\n",
    "for i in section:\n",
    "    if i > n_painted:\n",
    "        n_painted = i+m-1\n",
    "        count+=1\n",
    "\n",
    "print(count)"
   ]
  },
  {
   "cell_type": "code",
   "execution_count": null,
   "metadata": {},
   "outputs": [],
   "source": []
  },
  {
   "cell_type": "code",
   "execution_count": 14,
   "metadata": {},
   "outputs": [],
   "source": [
    "# 안전지대\n",
    "\n",
    "def solution(board):\n",
    "    \n",
    "    dx=[-1,0,1,-1,1,-1,0,1]\n",
    "    dy=[-1,-1,-1,0,0,1,1,1]\n",
    "    boom=[]\n",
    "    \n",
    "    for i in range(len(board)):\n",
    "        for j in range(len(board)):\n",
    "            if board[i][j]==1:\n",
    "                boom.append((i,j))\n",
    "            \n",
    "    for x,y in boom:\n",
    "        for i in range(8):\n",
    "            nx=x+dx[i]\n",
    "            ny=y+dy[i]\n",
    "            \n",
    "            if 0<=nx<len(board) and 0<=ny<len(board):\n",
    "                board[nx][ny]+=1\n",
    "\n",
    "    count=0\n",
    "    for i in range(len(board)):\n",
    "        for j in range(len(board)):\n",
    "            if board[i][j]==0:\n",
    "                count+=1\n",
    "    \n",
    "    return count\n"
   ]
  },
  {
   "cell_type": "code",
   "execution_count": 15,
   "metadata": {},
   "outputs": [
    {
     "name": "stdout",
     "output_type": "stream",
     "text": [
      "13\n"
     ]
    }
   ],
   "source": [
    "# 안전지대\n",
    "\n",
    "board=[[0, 0, 0, 0, 0], [0, 0, 0, 0, 0], [0, 0, 0, 0, 0], [0, 0, 1, 1, 0], [0, 0, 0, 0, 0]]\n",
    "\n",
    "dx=[-1,0,1,-1,1,-1,0,1]\n",
    "dy=[-1,-1,-1,0,0,1,1,1]\n",
    "boom=[]\n",
    "\n",
    "for i in range(len(board)):\n",
    "    for j in range(len(board)):\n",
    "        if board[i][j]==1:\n",
    "            boom.append((i,j))\n",
    "            \n",
    "for x,y in boom:\n",
    "    for i in range(8):\n",
    "        nx=x+dx[i]\n",
    "        ny=y+dy[i]\n",
    "        if 0<=nx<len(board) and 0<=ny<len(board):\n",
    "            board[nx][ny]+=1\n",
    "        \n",
    "count=0\n",
    "for i in range(len(board)):\n",
    "    for j in range(len(board)):\n",
    "        if board[i][j]==0:\n",
    "            count+=1\n",
    "        \n",
    "print(count)"
   ]
  },
  {
   "cell_type": "code",
   "execution_count": 16,
   "metadata": {},
   "outputs": [],
   "source": [
    "# 주사위 게임 3 -- 성공\n",
    "\n",
    "def solution(a, b, c, d):\n",
    "\n",
    "    x=[a,b,c,d]\n",
    "    count_x=[]\n",
    "    \n",
    "    # 각 원소 카운트\n",
    "    for i in x:\n",
    "        count_x.append(x.count(i))\n",
    "    \n",
    "    # 주사위 결과에 따라 경우 나누기\n",
    "    if max(count_x)==4: #4개가 같은 경우\n",
    "        answer=a*1111\n",
    "    elif max(count_x)==3: #3개가 같은 경우\n",
    "        p=x[count_x.index(3)]\n",
    "        q=x[count_x.index(1)]\n",
    "        answer=(10*p+q)**2\n",
    "    elif max(count_x)==2:\n",
    "        if min(count_x)==2: #두개씩 같은 경우\n",
    "            set_x=list(set(x))\n",
    "            answer= (set_x[0]+set_x[1])*abs(set_x[0]-set_x[1])\n",
    "        else:\n",
    "            p=x[count_x.index(2)]\n",
    "            answer=(a*b*c*d)/p**2 #같은거 빼고 나머지 두개 곱해야 하므로 다 곱해서 같은거 나누기\n",
    "    else: # 다 다른경우\n",
    "        answer= min(x)\n",
    "    \n",
    "    return answer"
   ]
  },
  {
   "cell_type": "code",
   "execution_count": 4,
   "metadata": {},
   "outputs": [
    {
     "data": {
      "text/plain": [
       "[2]"
      ]
     },
     "execution_count": 4,
     "metadata": {},
     "output_type": "execute_result"
    }
   ],
   "source": [
    "#주사위게임 --실패 \n",
    "\n",
    "a,b,c,d=(2,2,2,2)\n",
    "\n",
    "x=[a,b,c,d]\n",
    "set_x=list(set(x))\n",
    "print(set_x)\n",
    "\n",
    "if len(set_x)==1: #값이 모두 같은 경우\n",
    "    answer=1111*set_x[0]\n",
    "    \n",
    "elif len(set_x)==2: #3개가 같거나 2개씩 같은 경우\n",
    "    count=0\n",
    "    for i in range(len(x)):\n",
    "        if set_x[0]==x[i]:\n",
    "            count+=1\n",
    "    if count==1:\n",
    "        answer=(10*set_x[1]+set_x[0])**2\n",
    "    elif count==3:\n",
    "        answer=(10*set_x[0]+set_x[1])**2\n",
    "    elif count==2:\n",
    "        answer=(set_x[0]+set_x[1])*abs(set_x[0]-set_x[1])\n",
    "        \n",
    "elif len(set_x)==3: #2개 같고 나머지 두개가 다른 경우\n",
    "    for i in range(len(x)):\n",
    "        \n",
    "    \n",
    "    \n",
    "else:\n",
    "    answer=min(x)\n",
    "    \n",
    "print(answer)"
   ]
  },
  {
   "cell_type": "code",
   "execution_count": 15,
   "metadata": {},
   "outputs": [
    {
     "name": "stdout",
     "output_type": "stream",
     "text": [
      "[4, 4, 4, 4]\n",
      "2222\n"
     ]
    }
   ],
   "source": [
    "# 주사위게임 3 -- 다른 풀이\n",
    "a,b,c,d=(2,2,2,2)\n",
    "x=[a,b,c,d]\n",
    "count_x=[]\n",
    "# 각 원소 카운트\n",
    "for i in x:\n",
    "    count_x.append(x.count(i))\n",
    "print(count_x)\n",
    "\n",
    "\n",
    "if max(count_x)==4: #4개가 같은 경우\n",
    "    answer=a*1111\n",
    "elif max(count_x)==3: #3개가 같은 경우\n",
    "    p=x[count_x.index(3)]\n",
    "    q=x[count_x.index(1)]\n",
    "    answer=(10*p+q)**2\n",
    "elif max(count_x)==2:\n",
    "    if min(count_x)==2: #두개씩 같은 경우\n",
    "        set_x=list(set(x))\n",
    "        answer= (set_x[0]+set_x[1])*abs(set_x[0]-set_x[1])\n",
    "    else:\n",
    "        p=x[count_x.index(2)]\n",
    "        answer=(a*b*c*d)/p**2 #같은거 빼고 나머지 두개 곱해야 하므로 다 곱해서 같은거 나누기\n",
    "else: # 다 다른경우\n",
    "    answer= min(x)\n",
    "    \n",
    "\n",
    "\n",
    "print(answer)\n"
   ]
  },
  {
   "cell_type": "code",
   "execution_count": 3,
   "metadata": {},
   "outputs": [],
   "source": [
    "# 숫자 짝꿍\n",
    "\n",
    "def solution(X, Y):\n",
    "    \n",
    "    same=[] #같은 수\n",
    "\n",
    "    for i in X:\n",
    "        if i in Y:\n",
    "            same.append(i)\n",
    "            Y=Y.replace(i,\" \",1) # 짝을 이루는 숫자인지 확인하고 처음 발견되는 한개만 삭제\n",
    "            # 짝을 이루는 숫자인지 확인해야함\n",
    "\n",
    "    same=sorted(same,reverse=True)\n",
    "    if len(same)==0:\n",
    "        answer='-1'\n",
    "    elif same[0]=='0':\n",
    "        answer='0'\n",
    "    else:\n",
    "        answer=''.join(same)\n",
    "\n",
    "    return answer"
   ]
  },
  {
   "cell_type": "code",
   "execution_count": null,
   "metadata": {},
   "outputs": [],
   "source": []
  },
  {
   "cell_type": "code",
   "execution_count": null,
   "metadata": {},
   "outputs": [],
   "source": [
    "# 겹치는 선분의 길이\n",
    "\n",
    "def solution(lines):\n",
    "    \n",
    "    \n",
    "    \n",
    "    \n",
    "    answer = 0\n",
    "    \n",
    "    \n",
    "    \n",
    "    \n",
    "    \n",
    "    return answer\n",
    "\n"
   ]
  },
  {
   "cell_type": "code",
   "execution_count": null,
   "metadata": {},
   "outputs": [],
   "source": []
  },
  {
   "cell_type": "code",
   "execution_count": null,
   "metadata": {},
   "outputs": [],
   "source": []
  }
 ],
 "metadata": {
  "kernelspec": {
   "display_name": "Python 3",
   "language": "python",
   "name": "python3"
  },
  "language_info": {
   "codemirror_mode": {
    "name": "ipython",
    "version": 3
   },
   "file_extension": ".py",
   "mimetype": "text/x-python",
   "name": "python",
   "nbconvert_exporter": "python",
   "pygments_lexer": "ipython3",
   "version": "3.11.2"
  }
 },
 "nbformat": 4,
 "nbformat_minor": 2
}
